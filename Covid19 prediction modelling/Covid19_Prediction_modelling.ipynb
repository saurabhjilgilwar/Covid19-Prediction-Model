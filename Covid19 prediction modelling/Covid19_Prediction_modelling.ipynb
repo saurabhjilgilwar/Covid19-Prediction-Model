{
  "nbformat": 4,
  "nbformat_minor": 0,
  "metadata": {
    "colab": {
      "name": "Covid19_Prediction_modelling.ipynb",
      "provenance": []
    },
    "kernelspec": {
      "name": "python3",
      "display_name": "Python 3"
    },
    "language_info": {
      "name": "python"
    }
  },
  "cells": [
    {
      "cell_type": "code",
      "metadata": {
        "id": "pSmk77L-b4hc"
      },
      "source": [
        "import numpy as np\n",
        "import pandas as pd\n",
        "import seaborn as sns\n",
        "\n",
        "import matplotlib.pyplot as plt"
      ],
      "execution_count": 1,
      "outputs": []
    },
    {
      "cell_type": "code",
      "metadata": {
        "id": "tK68nHjBddCS"
      },
      "source": [
        "df=pd.read_csv(r'/content/covid.csv')\n"
      ],
      "execution_count": 6,
      "outputs": []
    },
    {
      "cell_type": "code",
      "metadata": {
        "colab": {
          "base_uri": "https://localhost:8080/",
          "height": 309
        },
        "id": "osBhlqUwjwLe",
        "outputId": "caf4cf9c-5a97-4bd2-c880-829b553dcec2"
      },
      "source": [
        "df.head()"
      ],
      "execution_count": 5,
      "outputs": [
        {
          "output_type": "execute_result",
          "data": {
            "text/html": [
              "<div>\n",
              "<style scoped>\n",
              "    .dataframe tbody tr th:only-of-type {\n",
              "        vertical-align: middle;\n",
              "    }\n",
              "\n",
              "    .dataframe tbody tr th {\n",
              "        vertical-align: top;\n",
              "    }\n",
              "\n",
              "    .dataframe thead th {\n",
              "        text-align: right;\n",
              "    }\n",
              "</style>\n",
              "<table border=\"1\" class=\"dataframe\">\n",
              "  <thead>\n",
              "    <tr style=\"text-align: right;\">\n",
              "      <th></th>\n",
              "      <th>id</th>\n",
              "      <th>sex</th>\n",
              "      <th>patient_type</th>\n",
              "      <th>entry_date</th>\n",
              "      <th>date_symptoms</th>\n",
              "      <th>date_died</th>\n",
              "      <th>intubed</th>\n",
              "      <th>pneumonia</th>\n",
              "      <th>age</th>\n",
              "      <th>pregnancy</th>\n",
              "      <th>diabetes</th>\n",
              "      <th>copd</th>\n",
              "      <th>asthma</th>\n",
              "      <th>inmsupr</th>\n",
              "      <th>hypertension</th>\n",
              "      <th>other_disease</th>\n",
              "      <th>cardiovascular</th>\n",
              "      <th>obesity</th>\n",
              "      <th>renal_chronic</th>\n",
              "      <th>tobacco</th>\n",
              "      <th>contact_other_covid</th>\n",
              "      <th>covid_res</th>\n",
              "      <th>icu</th>\n",
              "    </tr>\n",
              "  </thead>\n",
              "  <tbody>\n",
              "    <tr>\n",
              "      <th>0</th>\n",
              "      <td>16169f</td>\n",
              "      <td>2.0</td>\n",
              "      <td>1.0</td>\n",
              "      <td>4/5/2020</td>\n",
              "      <td>2/5/2020</td>\n",
              "      <td>9999-99-99</td>\n",
              "      <td>97.0</td>\n",
              "      <td>2.0</td>\n",
              "      <td>27.0</td>\n",
              "      <td>97.0</td>\n",
              "      <td>2.0</td>\n",
              "      <td>2.0</td>\n",
              "      <td>2.0</td>\n",
              "      <td>2.0</td>\n",
              "      <td>2.0</td>\n",
              "      <td>2.0</td>\n",
              "      <td>2.0</td>\n",
              "      <td>2.0</td>\n",
              "      <td>2.0</td>\n",
              "      <td>2.0</td>\n",
              "      <td>2.0</td>\n",
              "      <td>1.0</td>\n",
              "      <td>97.0</td>\n",
              "    </tr>\n",
              "    <tr>\n",
              "      <th>1</th>\n",
              "      <td>1009bf</td>\n",
              "      <td>2.0</td>\n",
              "      <td>1.0</td>\n",
              "      <td>19-03-2020</td>\n",
              "      <td>17-03-2020</td>\n",
              "      <td>9999-99-99</td>\n",
              "      <td>97.0</td>\n",
              "      <td>2.0</td>\n",
              "      <td>24.0</td>\n",
              "      <td>97.0</td>\n",
              "      <td>2.0</td>\n",
              "      <td>2.0</td>\n",
              "      <td>2.0</td>\n",
              "      <td>2.0</td>\n",
              "      <td>2.0</td>\n",
              "      <td>2.0</td>\n",
              "      <td>2.0</td>\n",
              "      <td>2.0</td>\n",
              "      <td>2.0</td>\n",
              "      <td>2.0</td>\n",
              "      <td>99.0</td>\n",
              "      <td>1.0</td>\n",
              "      <td>97.0</td>\n",
              "    </tr>\n",
              "    <tr>\n",
              "      <th>2</th>\n",
              "      <td>167386</td>\n",
              "      <td>1.0</td>\n",
              "      <td>2.0</td>\n",
              "      <td>6/4/2020</td>\n",
              "      <td>1/4/2020</td>\n",
              "      <td>9999-99-99</td>\n",
              "      <td>2.0</td>\n",
              "      <td>2.0</td>\n",
              "      <td>54.0</td>\n",
              "      <td>2.0</td>\n",
              "      <td>2.0</td>\n",
              "      <td>2.0</td>\n",
              "      <td>2.0</td>\n",
              "      <td>2.0</td>\n",
              "      <td>2.0</td>\n",
              "      <td>2.0</td>\n",
              "      <td>2.0</td>\n",
              "      <td>1.0</td>\n",
              "      <td>2.0</td>\n",
              "      <td>2.0</td>\n",
              "      <td>99.0</td>\n",
              "      <td>1.0</td>\n",
              "      <td>2.0</td>\n",
              "    </tr>\n",
              "    <tr>\n",
              "      <th>3</th>\n",
              "      <td>0b5948</td>\n",
              "      <td>2.0</td>\n",
              "      <td>2.0</td>\n",
              "      <td>17-04-2020</td>\n",
              "      <td>10/4/2020</td>\n",
              "      <td>9999-99-99</td>\n",
              "      <td>2.0</td>\n",
              "      <td>1.0</td>\n",
              "      <td>30.0</td>\n",
              "      <td>97.0</td>\n",
              "      <td>2.0</td>\n",
              "      <td>2.0</td>\n",
              "      <td>2.0</td>\n",
              "      <td>2.0</td>\n",
              "      <td>2.0</td>\n",
              "      <td>2.0</td>\n",
              "      <td>2.0</td>\n",
              "      <td>2.0</td>\n",
              "      <td>2.0</td>\n",
              "      <td>2.0</td>\n",
              "      <td>99.0</td>\n",
              "      <td>1.0</td>\n",
              "      <td>2.0</td>\n",
              "    </tr>\n",
              "    <tr>\n",
              "      <th>4</th>\n",
              "      <td>0d01b5</td>\n",
              "      <td>1.0</td>\n",
              "      <td>2.0</td>\n",
              "      <td>13-04-2020</td>\n",
              "      <td>13-04-2020</td>\n",
              "      <td>22-04-2020</td>\n",
              "      <td>2.0</td>\n",
              "      <td>2.0</td>\n",
              "      <td>60.0</td>\n",
              "      <td>2.0</td>\n",
              "      <td>1.0</td>\n",
              "      <td>2.0</td>\n",
              "      <td>2.0</td>\n",
              "      <td>2.0</td>\n",
              "      <td>1.0</td>\n",
              "      <td>2.0</td>\n",
              "      <td>1.0</td>\n",
              "      <td>2.0</td>\n",
              "      <td>2.0</td>\n",
              "      <td>2.0</td>\n",
              "      <td>99.0</td>\n",
              "      <td>1.0</td>\n",
              "      <td>2.0</td>\n",
              "    </tr>\n",
              "  </tbody>\n",
              "</table>\n",
              "</div>"
            ],
            "text/plain": [
              "       id  sex  patient_type  ... contact_other_covid covid_res   icu\n",
              "0  16169f  2.0           1.0  ...                 2.0       1.0  97.0\n",
              "1  1009bf  2.0           1.0  ...                99.0       1.0  97.0\n",
              "2  167386  1.0           2.0  ...                99.0       1.0   2.0\n",
              "3  0b5948  2.0           2.0  ...                99.0       1.0   2.0\n",
              "4  0d01b5  1.0           2.0  ...                99.0       1.0   2.0\n",
              "\n",
              "[5 rows x 23 columns]"
            ]
          },
          "metadata": {
            "tags": []
          },
          "execution_count": 5
        }
      ]
    },
    {
      "cell_type": "code",
      "metadata": {
        "colab": {
          "base_uri": "https://localhost:8080/",
          "height": 0
        },
        "id": "_38JR0jBj5Iu",
        "outputId": "04db541e-f698-4065-b56f-f32de15e2b44"
      },
      "source": [
        "print(df.shape)"
      ],
      "execution_count": 7,
      "outputs": [
        {
          "output_type": "stream",
          "text": [
            "(566602, 23)\n"
          ],
          "name": "stdout"
        }
      ]
    },
    {
      "cell_type": "code",
      "metadata": {
        "colab": {
          "base_uri": "https://localhost:8080/",
          "height": 0
        },
        "id": "PoF-naQ-kIXj",
        "outputId": "20c23303-c5e9-4baf-b950-b3445bb1b20f"
      },
      "source": [
        "print(df.columns.size)\n",
        "df.columns"
      ],
      "execution_count": 8,
      "outputs": [
        {
          "output_type": "stream",
          "text": [
            "23\n"
          ],
          "name": "stdout"
        },
        {
          "output_type": "execute_result",
          "data": {
            "text/plain": [
              "Index(['id', 'sex', 'patient_type', 'entry_date', 'date_symptoms', 'date_died',\n",
              "       'intubed', 'pneumonia', 'age', 'pregnancy', 'diabetes', 'copd',\n",
              "       'asthma', 'inmsupr', 'hypertension', 'other_disease', 'cardiovascular',\n",
              "       'obesity', 'renal_chronic', 'tobacco', 'contact_other_covid',\n",
              "       'covid_res', 'icu'],\n",
              "      dtype='object')"
            ]
          },
          "metadata": {
            "tags": []
          },
          "execution_count": 8
        }
      ]
    },
    {
      "cell_type": "markdown",
      "metadata": {
        "id": "8mCteN_PokgO"
      },
      "source": [
        "**Data Pre-processing**\n",
        "1. Data Cleaning"
      ]
    },
    {
      "cell_type": "code",
      "metadata": {
        "colab": {
          "base_uri": "https://localhost:8080/",
          "height": 0
        },
        "id": "boMko5WzpUJB",
        "outputId": "7de49795-6604-4c7d-cabf-8ee7bb0071fd"
      },
      "source": [
        "for i in df.columns:\n",
        "    if i in ['id','entry_date','date_symptoms','date_died','age']:\n",
        "        continue\n",
        "    else:\n",
        "        print('unique values in '+ i +' column- ',end=' ')\n",
        "        print(df[i].unique())"
      ],
      "execution_count": 9,
      "outputs": [
        {
          "output_type": "stream",
          "text": [
            "unique values in sex column-  [2 1]\n",
            "unique values in patient_type column-  [1 2]\n",
            "unique values in intubed column-  [97  2  1 99]\n",
            "unique values in pneumonia column-  [ 2  1 99]\n",
            "unique values in pregnancy column-  [97  2  1 98]\n",
            "unique values in diabetes column-  [ 2  1 98]\n",
            "unique values in copd column-  [ 2  1 98]\n",
            "unique values in asthma column-  [ 2  1 98]\n",
            "unique values in inmsupr column-  [ 2  1 98]\n",
            "unique values in hypertension column-  [ 2  1 98]\n",
            "unique values in other_disease column-  [ 2  1 98]\n",
            "unique values in cardiovascular column-  [ 2  1 98]\n",
            "unique values in obesity column-  [ 2  1 98]\n",
            "unique values in renal_chronic column-  [ 2  1 98]\n",
            "unique values in tobacco column-  [ 2  1 98]\n",
            "unique values in contact_other_covid column-  [ 2 99  1]\n",
            "unique values in covid_res column-  [1 2 3]\n",
            "unique values in icu column-  [97  2  1 99]\n"
          ],
          "name": "stdout"
        }
      ]
    },
    {
      "cell_type": "code",
      "metadata": {
        "id": "MtTHB4dRuITn"
      },
      "source": [
        ""
      ],
      "execution_count": null,
      "outputs": []
    },
    {
      "cell_type": "markdown",
      "metadata": {
        "id": "yU9BZEDbp4f7"
      },
      "source": [
        "1.1 Data Descriptors\n",
        "\n",
        "These features are categorical so we convert them into different categories as follows:\n",
        "\n",
        "(a) Sex:- Female (1), Male (2)\n",
        "\n",
        "(b) Patient_type:- Outpatient (1), Inpatient (2)\n",
        "\n",
        "(c) Columns with preconditions like pregnancy, diabetes, copd, asthma etc:- Yes (1), No (2)\n",
        "\n",
        "(d) Covid result:- Positive (1), Negative (2), Results Awaited (3)\n",
        "\n",
        "The values 97, 98, 99 indicate that the data is not available for these cells.\n",
        "\n",
        "Okay great! Now that we have the available descriptors of each column, we can move forward with the cleaning and wrangling of the data."
      ]
    },
    {
      "cell_type": "code",
      "metadata": {
        "colab": {
          "base_uri": "https://localhost:8080/",
          "height": 0
        },
        "id": "YeNHY66jr6eN",
        "outputId": "f397810e-3d2d-41c2-e634-e2c8ab1abaf4"
      },
      "source": [
        "df.info()\n",
        "print('\\nCovid Result positive-',len(df[df['covid_res']==1]))  #Covid Result positive\n",
        "print('Covid Result negative-',len(df[df['covid_res']==2]))  #Covid Result negative\n",
        "print('Covid result awaited-',len(df[df['covid_res']==3]))  #Covid result awaited"
      ],
      "execution_count": 10,
      "outputs": [
        {
          "output_type": "stream",
          "text": [
            "<class 'pandas.core.frame.DataFrame'>\n",
            "RangeIndex: 566602 entries, 0 to 566601\n",
            "Data columns (total 23 columns):\n",
            " #   Column               Non-Null Count   Dtype \n",
            "---  ------               --------------   ----- \n",
            " 0   id                   566602 non-null  object\n",
            " 1   sex                  566602 non-null  int64 \n",
            " 2   patient_type         566602 non-null  int64 \n",
            " 3   entry_date           566602 non-null  object\n",
            " 4   date_symptoms        566602 non-null  object\n",
            " 5   date_died            566602 non-null  object\n",
            " 6   intubed              566602 non-null  int64 \n",
            " 7   pneumonia            566602 non-null  int64 \n",
            " 8   age                  566602 non-null  int64 \n",
            " 9   pregnancy            566602 non-null  int64 \n",
            " 10  diabetes             566602 non-null  int64 \n",
            " 11  copd                 566602 non-null  int64 \n",
            " 12  asthma               566602 non-null  int64 \n",
            " 13  inmsupr              566602 non-null  int64 \n",
            " 14  hypertension         566602 non-null  int64 \n",
            " 15  other_disease        566602 non-null  int64 \n",
            " 16  cardiovascular       566602 non-null  int64 \n",
            " 17  obesity              566602 non-null  int64 \n",
            " 18  renal_chronic        566602 non-null  int64 \n",
            " 19  tobacco              566602 non-null  int64 \n",
            " 20  contact_other_covid  566602 non-null  int64 \n",
            " 21  covid_res            566602 non-null  int64 \n",
            " 22  icu                  566602 non-null  int64 \n",
            "dtypes: int64(19), object(4)\n",
            "memory usage: 99.4+ MB\n",
            "\n",
            "Covid Result positive- 220657\n",
            "Covid Result negative- 279035\n",
            "Covid result awaited- 66910\n"
          ],
          "name": "stdout"
        }
      ]
    },
    {
      "cell_type": "code",
      "metadata": {
        "id": "YgbKls1Bs7kL"
      },
      "source": [
        "No null values present in the data¶\n"
      ],
      "execution_count": null,
      "outputs": []
    },
    {
      "cell_type": "code",
      "metadata": {
        "colab": {
          "base_uri": "https://localhost:8080/",
          "height": 419
        },
        "id": "3UceTIOGtHlO",
        "outputId": "c4220021-ab5a-4fd5-d1dc-295187017d2e"
      },
      "source": [
        "date_cols=['entry_date','date_symptoms']\n",
        "for dates in date_cols:\n",
        "    df[dates]=pd.to_datetime(df[dates],infer_datetime_format=True)\n",
        "\n",
        "# cleaning Date_died column\n",
        "df['date_died'].replace('9999-99-99','NA',inplace=True)\n",
        "date_cols.append('date_died')\n",
        "#df[date_cols_2]\n",
        "df[date_cols]"
      ],
      "execution_count": 12,
      "outputs": [
        {
          "output_type": "execute_result",
          "data": {
            "text/html": [
              "<div>\n",
              "<style scoped>\n",
              "    .dataframe tbody tr th:only-of-type {\n",
              "        vertical-align: middle;\n",
              "    }\n",
              "\n",
              "    .dataframe tbody tr th {\n",
              "        vertical-align: top;\n",
              "    }\n",
              "\n",
              "    .dataframe thead th {\n",
              "        text-align: right;\n",
              "    }\n",
              "</style>\n",
              "<table border=\"1\" class=\"dataframe\">\n",
              "  <thead>\n",
              "    <tr style=\"text-align: right;\">\n",
              "      <th></th>\n",
              "      <th>entry_date</th>\n",
              "      <th>date_symptoms</th>\n",
              "      <th>date_died</th>\n",
              "    </tr>\n",
              "  </thead>\n",
              "  <tbody>\n",
              "    <tr>\n",
              "      <th>0</th>\n",
              "      <td>2020-04-05</td>\n",
              "      <td>2020-02-05</td>\n",
              "      <td>NA</td>\n",
              "    </tr>\n",
              "    <tr>\n",
              "      <th>1</th>\n",
              "      <td>2020-03-19</td>\n",
              "      <td>2020-03-17</td>\n",
              "      <td>NA</td>\n",
              "    </tr>\n",
              "    <tr>\n",
              "      <th>2</th>\n",
              "      <td>2020-06-04</td>\n",
              "      <td>2020-01-04</td>\n",
              "      <td>NA</td>\n",
              "    </tr>\n",
              "    <tr>\n",
              "      <th>3</th>\n",
              "      <td>2020-04-17</td>\n",
              "      <td>2020-10-04</td>\n",
              "      <td>NA</td>\n",
              "    </tr>\n",
              "    <tr>\n",
              "      <th>4</th>\n",
              "      <td>2020-04-13</td>\n",
              "      <td>2020-04-13</td>\n",
              "      <td>22-04-2020</td>\n",
              "    </tr>\n",
              "    <tr>\n",
              "      <th>...</th>\n",
              "      <td>...</td>\n",
              "      <td>...</td>\n",
              "      <td>...</td>\n",
              "    </tr>\n",
              "    <tr>\n",
              "      <th>566597</th>\n",
              "      <td>2020-05-13</td>\n",
              "      <td>2020-03-05</td>\n",
              "      <td>NA</td>\n",
              "    </tr>\n",
              "    <tr>\n",
              "      <th>566598</th>\n",
              "      <td>2020-07-04</td>\n",
              "      <td>2020-06-04</td>\n",
              "      <td>NA</td>\n",
              "    </tr>\n",
              "    <tr>\n",
              "      <th>566599</th>\n",
              "      <td>2020-05-14</td>\n",
              "      <td>2020-01-05</td>\n",
              "      <td>NA</td>\n",
              "    </tr>\n",
              "    <tr>\n",
              "      <th>566600</th>\n",
              "      <td>2020-05-31</td>\n",
              "      <td>2020-05-29</td>\n",
              "      <td>NA</td>\n",
              "    </tr>\n",
              "    <tr>\n",
              "      <th>566601</th>\n",
              "      <td>2020-05-16</td>\n",
              "      <td>2020-05-16</td>\n",
              "      <td>NA</td>\n",
              "    </tr>\n",
              "  </tbody>\n",
              "</table>\n",
              "<p>566602 rows × 3 columns</p>\n",
              "</div>"
            ],
            "text/plain": [
              "       entry_date date_symptoms   date_died\n",
              "0      2020-04-05    2020-02-05          NA\n",
              "1      2020-03-19    2020-03-17          NA\n",
              "2      2020-06-04    2020-01-04          NA\n",
              "3      2020-04-17    2020-10-04          NA\n",
              "4      2020-04-13    2020-04-13  22-04-2020\n",
              "...           ...           ...         ...\n",
              "566597 2020-05-13    2020-03-05          NA\n",
              "566598 2020-07-04    2020-06-04          NA\n",
              "566599 2020-05-14    2020-01-05          NA\n",
              "566600 2020-05-31    2020-05-29          NA\n",
              "566601 2020-05-16    2020-05-16          NA\n",
              "\n",
              "[566602 rows x 3 columns]"
            ]
          },
          "metadata": {
            "tags": []
          },
          "execution_count": 12
        }
      ]
    },
    {
      "cell_type": "code",
      "metadata": {
        "id": "RSD9zNpRtpfq"
      },
      "source": [
        "df=df[['sex', 'patient_type', 'entry_date', 'date_symptoms', 'date_died', 'age',\n",
        "       'intubed', 'pneumonia', 'pregnancy', 'diabetes', 'copd',\n",
        "       'asthma', 'inmsupr', 'hypertension', 'other_disease', 'cardiovascular',\n",
        "       'obesity', 'renal_chronic', 'tobacco', 'contact_other_covid',\n",
        "       'covid_res', 'icu']]"
      ],
      "execution_count": 13,
      "outputs": []
    },
    {
      "cell_type": "code",
      "metadata": {
        "id": "sEgyI134uN1t"
      },
      "source": [
        "df.iloc[:,6:]=df.iloc[:,6:].replace([97,98,99],np.nan)\n",
        "df.iloc[:,6:]=df.iloc[:,6:].replace(1,'Yes')\n",
        "df.iloc[:,6:]=df.iloc[:,6:].replace(2,'No')\n",
        "\n",
        "df.iloc[:,-2]=df.iloc[:,-2].replace('Yes','Positive')\n",
        "df.iloc[:,-2]=df.iloc[:,-2].replace('No','Negative')\n",
        "df.iloc[:,-2]=df.iloc[:,-2].replace(3,'Results awaited')"
      ],
      "execution_count": 14,
      "outputs": []
    },
    {
      "cell_type": "markdown",
      "metadata": {
        "id": "UQQ_LUHiuYdA"
      },
      "source": [
        "**2. Data Visualization**\n",
        "\n",
        "Null value Heatmap"
      ]
    },
    {
      "cell_type": "code",
      "metadata": {
        "colab": {
          "base_uri": "https://localhost:8080/",
          "height": 724
        },
        "id": "aNalLKCbubUP",
        "outputId": "b5c13888-ff81-4d5c-a5c6-2e61bf56b18e"
      },
      "source": [
        "plt.figure(figsize=(12,10))\n",
        "sns.heatmap(df.isnull())\n",
        "plt.title('Null value heatmap',size=25)"
      ],
      "execution_count": 15,
      "outputs": [
        {
          "output_type": "execute_result",
          "data": {
            "text/plain": [
              "Text(0.5, 1.0, 'Null value heatmap')"
            ]
          },
          "metadata": {
            "tags": []
          },
          "execution_count": 15
        },
        {
          "output_type": "display_data",
          "data": {
            "image/png": "[encoded data removed]",
            "text/plain": [
              "<Figure size 864x720 with 2 Axes>"
            ]
          },
          "metadata": {
            "tags": [],
            "needs_background": "light"
          }
        }
      ]
    },
    {
      "cell_type": "markdown",
      "metadata": {
        "id": "MxvxpBdivDfv"
      },
      "source": [
        "Since we are focusing on giving the chances of being affected by corona,so our main focus will be on either chance is positive or negative, hence we'll neglect awaiting chances.. Now here i am dropping all those rows which contains chance is awaiting i.e.3 value"
      ]
    },
    {
      "cell_type": "code",
      "metadata": {
        "id": "SQHHnRscvFKw"
      },
      "source": [
        "df=df[df['covid_res']!='Results awaited']"
      ],
      "execution_count": 16,
      "outputs": []
    },
    {
      "cell_type": "markdown",
      "metadata": {
        "id": "w8LW_vlcvXj-"
      },
      "source": [
        "**1. Intubation**"
      ]
    },
    {
      "cell_type": "code",
      "metadata": {
        "colab": {
          "base_uri": "https://localhost:8080/",
          "height": 0
        },
        "id": "gNkGSo7pvT5Z",
        "outputId": "f4879cc5-ef2d-46f7-db5b-4ac57973db39"
      },
      "source": [
        "df['intubed'].isna().value_counts()\n",
        "# True indicates the NULL Values"
      ],
      "execution_count": 17,
      "outputs": [
        {
          "output_type": "execute_result",
          "data": {
            "text/plain": [
              "True     392268\n",
              "False    107424\n",
              "Name: intubed, dtype: int64"
            ]
          },
          "metadata": {
            "tags": []
          },
          "execution_count": 17
        }
      ]
    },
    {
      "cell_type": "code",
      "metadata": {
        "colab": {
          "base_uri": "https://localhost:8080/",
          "height": 401
        },
        "id": "abkQC-Iqvsx8",
        "outputId": "8048f1d3-1473-4236-9e55-64240a49460e"
      },
      "source": [
        "#FROM THE REPORTED INTUBATION\n",
        "%matplotlib inline\n",
        "# plt.figure(figsize=(8,10))\n",
        "ax=plt.hist(df['intubed'][df['intubed'].isna()==False],bins=2,edgecolor='black')\n",
        "plt.xticks(size=10,)\n",
        "plt.xlabel('Intubation \\n \\n Yes:{}  No:{}'.format(df['intubed'].value_counts()[1] , df['intubed'].value_counts()[0]),size=15)\n",
        "plt.ylabel('Count',size=10)\n",
        "plt.title('Reported intubations \\n \\n  Ratio={0:.0f}'.format(df['intubed'].value_counts()[0]/df['intubed'].value_counts()[1])\n",
        "          ,size=20)"
      ],
      "execution_count": 18,
      "outputs": [
        {
          "output_type": "execute_result",
          "data": {
            "text/plain": [
              "Text(0.5, 1.0, 'Reported intubations \\n \\n  Ratio=11')"
            ]
          },
          "metadata": {
            "tags": []
          },
          "execution_count": 18
        },
        {
          "output_type": "display_data",
          "data": {
            "image/png": "[encoded data removed]",
            "text/plain": [
              "<Figure size 432x288 with 1 Axes>"
            ]
          },
          "metadata": {
            "tags": [],
            "needs_background": "light"
          }
        }
      ]
    },
    {
      "cell_type": "markdown",
      "metadata": {
        "id": "WDi2j2H-v2Lb"
      },
      "source": [
        "**Intubation test positivity**"
      ]
    },
    {
      "cell_type": "code",
      "metadata": {
        "colab": {
          "base_uri": "https://localhost:8080/",
          "height": 498
        },
        "id": "jMqyjKiNv4Cf",
        "outputId": "a79923ea-6ce7-4aa4-b10a-a1f6bc20215d"
      },
      "source": [
        "df_intubed=df[df['intubed']=='Yes']\n",
        "sns.catplot('covid_res',data=df_intubed,kind='count')\n",
        "plt.title('Intubed patient numbers',size=20)\n",
        "plt.xlabel('Results \\n Test postivity rate: {0:.2f} %'.format(\n",
        "    100* df_intubed['covid_res'].value_counts()[0]/df_intubed['covid_res'].size),size=15)"
      ],
      "execution_count": 19,
      "outputs": [
        {
          "output_type": "stream",
          "text": [
            "/usr/local/lib/python3.7/dist-packages/seaborn/_decorators.py:43: FutureWarning: Pass the following variable as a keyword arg: x. From version 0.12, the only valid positional argument will be `data`, and passing other arguments without an explicit keyword will result in an error or misinterpretation.\n",
            "  FutureWarning\n"
          ],
          "name": "stderr"
        },
        {
          "output_type": "execute_result",
          "data": {
            "text/plain": [
              "Text(0.5, 6.79999999999999, 'Results \\n Test postivity rate: 71.94 %')"
            ]
          },
          "metadata": {
            "tags": []
          },
          "execution_count": 19
        },
        {
          "output_type": "display_data",
          "data": {
            "image/png": "[encoded data removed]",
            "text/plain": [
              "<Figure size 360x360 with 1 Axes>"
            ]
          },
          "metadata": {
            "tags": [],
            "needs_background": "light"
          }
        }
      ]
    },
    {
      "cell_type": "markdown",
      "metadata": {
        "id": "7zarPiRkwXJH"
      },
      "source": [
        "Intubation is a good indicator, so as to predict whether the person is Covid +ve or not"
      ]
    },
    {
      "cell_type": "markdown",
      "metadata": {
        "id": "hZGXbDIPwZFM"
      },
      "source": [
        "**2. Pregnancy**"
      ]
    },
    {
      "cell_type": "code",
      "metadata": {
        "colab": {
          "base_uri": "https://localhost:8080/",
          "height": 0
        },
        "id": "czTHrh1qweRd",
        "outputId": "31fd8a33-107a-4600-9c94-bc9a5ab48b48"
      },
      "source": [
        "df['pregnancy'].isna().value_counts()\n",
        "# True indicates the NULL Values\n",
        "# False indicates total reported pregnancy (might be yes or no)"
      ],
      "execution_count": 20,
      "outputs": [
        {
          "output_type": "execute_result",
          "data": {
            "text/plain": [
              "True     254434\n",
              "False    245258\n",
              "Name: pregnancy, dtype: int64"
            ]
          },
          "metadata": {
            "tags": []
          },
          "execution_count": 20
        }
      ]
    },
    {
      "cell_type": "code",
      "metadata": {
        "colab": {
          "base_uri": "https://localhost:8080/",
          "height": 401
        },
        "id": "5HVqC2mowsKa",
        "outputId": "10f6cd73-75d4-42c7-fd83-fc313b7e219e"
      },
      "source": [
        "ax=plt.hist(df['pregnancy'][df['pregnancy'].isna()==False],bins=2,edgecolor='black')\n",
        "plt.xticks(size=10,)\n",
        "plt.xlabel('Pregnancy \\n \\n Yes:{}  No:{}'.format(df['pregnancy'].value_counts()[1] , df['pregnancy'].value_counts()[0]),size=15)\n",
        "plt.ylabel('Count',size=10)\n",
        "plt.title('Reported pregnancy \\n \\n  Ratio={0:.0f}'.format(df['pregnancy'].value_counts()[0]/df['pregnancy'].value_counts()[1])\n",
        "          ,size=20)"
      ],
      "execution_count": 21,
      "outputs": [
        {
          "output_type": "execute_result",
          "data": {
            "text/plain": [
              "Text(0.5, 1.0, 'Reported pregnancy \\n \\n  Ratio=67')"
            ]
          },
          "metadata": {
            "tags": []
          },
          "execution_count": 21
        },
        {
          "output_type": "display_data",
          "data": {
            "image/png": "[encoded data removed]",
            "text/plain": [
              "<Figure size 432x288 with 1 Axes>"
            ]
          },
          "metadata": {
            "tags": [],
            "needs_background": "light"
          }
        }
      ]
    },
    {
      "cell_type": "markdown",
      "metadata": {
        "id": "cpUKGZB1w4B-"
      },
      "source": [
        "Pregnancy test positivity\n",
        "\n",
        "Through this metric we try to understand what are the chances of a person being COVID +ve if she is pregnant."
      ]
    },
    {
      "cell_type": "code",
      "metadata": {
        "colab": {
          "base_uri": "https://localhost:8080/",
          "height": 503
        },
        "id": "Y8SIg0dXw6eE",
        "outputId": "bd2d7997-7831-439e-bc59-a8dfec35d6ec"
      },
      "source": [
        "df_pregnancy=df[df['pregnancy']=='Yes']\n",
        "sns.catplot('covid_res',data=df_pregnancy,kind='count')\n",
        "plt.title('Pregnant patient numbers',size=20)\n",
        "plt.xlabel('Results \\n Test postivity rate: {0:.2f} %'.format(\n",
        "    100* df_pregnancy['covid_res'].value_counts()[1]/df_pregnancy['covid_res'].size),size=15)\n",
        "plt.xticks(size=15)"
      ],
      "execution_count": 22,
      "outputs": [
        {
          "output_type": "stream",
          "text": [
            "/usr/local/lib/python3.7/dist-packages/seaborn/_decorators.py:43: FutureWarning: Pass the following variable as a keyword arg: x. From version 0.12, the only valid positional argument will be `data`, and passing other arguments without an explicit keyword will result in an error or misinterpretation.\n",
            "  FutureWarning\n"
          ],
          "name": "stderr"
        },
        {
          "output_type": "execute_result",
          "data": {
            "text/plain": [
              "(array([0, 1]), <a list of 2 Text major ticklabel objects>)"
            ]
          },
          "metadata": {
            "tags": []
          },
          "execution_count": 22
        },
        {
          "output_type": "display_data",
          "data": {
            "image/png": "[encoded data removed]",
            "text/plain": [
              "<Figure size 360x360 with 1 Axes>"
            ]
          },
          "metadata": {
            "tags": [],
            "needs_background": "light"
          }
        }
      ]
    },
    {
      "cell_type": "markdown",
      "metadata": {
        "id": "CmZASbIrxGKI"
      },
      "source": [
        "From the above charts, Most of the women's who are pregnant are found to be covid -ve. Although there is not much sifgnifiact difference in Covid positivity and negativity rates.\n",
        "\n",
        "**Pregnancy is not a good indicator to predict Covid positivity**"
      ]
    },
    {
      "cell_type": "markdown",
      "metadata": {
        "id": "9oD6LOVlxQWT"
      },
      "source": [
        "**3. Contact with Other Covid +ve person**"
      ]
    },
    {
      "cell_type": "code",
      "metadata": {
        "colab": {
          "base_uri": "https://localhost:8080/",
          "height": 0
        },
        "id": "klR5rl3oxSiL",
        "outputId": "ada26086-6e19-4b80-e3f8-5ea097494eb7"
      },
      "source": [
        "df['contact_other_covid'].isna().value_counts()\n",
        "# True indicates the NULL Values\n",
        "# False indicates total reported data (might be yes or no)"
      ],
      "execution_count": 23,
      "outputs": [
        {
          "output_type": "execute_result",
          "data": {
            "text/plain": [
              "False    346017\n",
              "True     153675\n",
              "Name: contact_other_covid, dtype: int64"
            ]
          },
          "metadata": {
            "tags": []
          },
          "execution_count": 23
        }
      ]
    },
    {
      "cell_type": "code",
      "metadata": {
        "colab": {
          "base_uri": "https://localhost:8080/",
          "height": 403
        },
        "id": "PiyGXtXUxc87",
        "outputId": "ce132543-a7ac-4126-a028-98069cd7117a"
      },
      "source": [
        "ax=plt.hist(df['contact_other_covid'][df['contact_other_covid'].isna()==False],bins=2,edgecolor='black')\n",
        "plt.xticks(size=10,)\n",
        "plt.xlabel('contact_other_covid \\n \\n Yes:{}  No:{}'.format(df['contact_other_covid'].value_counts()[1] , df['contact_other_covid'].value_counts()[0]),size=15)\n",
        "plt.ylabel('Count',size=10)\n",
        "plt.title('contact_other_covid \\n \\n  Ratio={0:.02f}'.format(df['contact_other_covid'].value_counts()[0]/df['contact_other_covid'].value_counts()[1])\n",
        "          ,size=20)"
      ],
      "execution_count": 24,
      "outputs": [
        {
          "output_type": "execute_result",
          "data": {
            "text/plain": [
              "Text(0.5, 1.0, 'contact_other_covid \\n \\n  Ratio=1.32')"
            ]
          },
          "metadata": {
            "tags": []
          },
          "execution_count": 24
        },
        {
          "output_type": "display_data",
          "data": {
            "image/png": "[encoded data removed]",
            "text/plain": [
              "<Figure size 432x288 with 1 Axes>"
            ]
          },
          "metadata": {
            "tags": [],
            "needs_background": "light"
          }
        }
      ]
    },
    {
      "cell_type": "markdown",
      "metadata": {
        "id": "IRL8CTS8xif-"
      },
      "source": [
        "Contact Test positivity\n",
        "\n",
        "Through this metric we try to understand what are the chances of a person being COVID +ve if he/she recently came in contact with other infected person."
      ]
    },
    {
      "cell_type": "code",
      "metadata": {
        "colab": {
          "base_uri": "https://localhost:8080/",
          "height": 503
        },
        "id": "FL2Ye9ocxsfr",
        "outputId": "94d79f33-45b2-48ea-c2ec-450cc0569b84"
      },
      "source": [
        "# FROM THOSE WHO ARE REPORTED YES\n",
        "df_contact_other_covid=df[df['contact_other_covid']=='Yes']\n",
        "sns.catplot('covid_res',data=df_contact_other_covid,kind='count')\n",
        "plt.title('contact_other_covid numbers',size=20)\n",
        "plt.xlabel('Results \\n Test postivity rate: {0:.2f} %'.format(\n",
        "    100* df_contact_other_covid['covid_res'].value_counts()[1]/df_contact_other_covid['covid_res'].size),size=15)\n",
        "plt.xticks(size=15)"
      ],
      "execution_count": 26,
      "outputs": [
        {
          "output_type": "stream",
          "text": [
            "/usr/local/lib/python3.7/dist-packages/seaborn/_decorators.py:43: FutureWarning: Pass the following variable as a keyword arg: x. From version 0.12, the only valid positional argument will be `data`, and passing other arguments without an explicit keyword will result in an error or misinterpretation.\n",
            "  FutureWarning\n"
          ],
          "name": "stderr"
        },
        {
          "output_type": "execute_result",
          "data": {
            "text/plain": [
              "(array([0, 1]), <a list of 2 Text major ticklabel objects>)"
            ]
          },
          "metadata": {
            "tags": []
          },
          "execution_count": 26
        },
        {
          "output_type": "display_data",
          "data": {
            "image/png": "[encoded data removed]",
            "text/plain": [
              "<Figure size 360x360 with 1 Axes>"
            ]
          },
          "metadata": {
            "tags": [],
            "needs_background": "light"
          }
        }
      ]
    },
    {
      "cell_type": "markdown",
      "metadata": {
        "id": "zL8RlNjux4J9"
      },
      "source": [
        "Just contacting other covid+ve person doesn't guarantee Covid positivity.\n",
        "\n",
        "This might be the indicator if other attribute values are provided"
      ]
    },
    {
      "cell_type": "markdown",
      "metadata": {
        "id": "0UhSdtopyCZi"
      },
      "source": [
        "**4. ICU reported patients**"
      ]
    },
    {
      "cell_type": "code",
      "metadata": {
        "colab": {
          "base_uri": "https://localhost:8080/",
          "height": 0
        },
        "id": "aXtDRKEHyE20",
        "outputId": "e0eda725-1783-4202-aeed-43b1d05dccf3"
      },
      "source": [
        "df['icu'].isna().value_counts()\n",
        "# True indicates the NULL Values\n",
        "# False indicates total reported data (might be yes or no)"
      ],
      "execution_count": 27,
      "outputs": [
        {
          "output_type": "execute_result",
          "data": {
            "text/plain": [
              "True     392269\n",
              "False    107423\n",
              "Name: icu, dtype: int64"
            ]
          },
          "metadata": {
            "tags": []
          },
          "execution_count": 27
        }
      ]
    },
    {
      "cell_type": "code",
      "metadata": {
        "colab": {
          "base_uri": "https://localhost:8080/",
          "height": 401
        },
        "id": "QwJ-BiNmyNdX",
        "outputId": "ca6e8fc3-e606-4f43-ad64-5bb5717015d9"
      },
      "source": [
        "ax=plt.hist(df['icu'][df['icu'].isna()==False],bins=2,edgecolor='black')\n",
        "plt.xticks(size=10,)\n",
        "plt.xlabel('icu \\n \\n Yes:{}  No:{}'.format(df['icu'].value_counts()[1] , df['icu'].value_counts()[0]),size=15)\n",
        "plt.ylabel('Count',size=10)\n",
        "plt.title('icu \\n \\n  Ratio={0:.0f}'.format(df['icu'].value_counts()[0]/df['icu'].value_counts()[1])\n",
        "          ,size=20)"
      ],
      "execution_count": 28,
      "outputs": [
        {
          "output_type": "execute_result",
          "data": {
            "text/plain": [
              "Text(0.5, 1.0, 'icu \\n \\n  Ratio=11')"
            ]
          },
          "metadata": {
            "tags": []
          },
          "execution_count": 28
        },
        {
          "output_type": "display_data",
          "data": {
            "image/png": "[encoded data removed]",
            "text/plain": [
              "<Figure size 432x288 with 1 Axes>"
            ]
          },
          "metadata": {
            "tags": [],
            "needs_background": "light"
          }
        }
      ]
    },
    {
      "cell_type": "markdown",
      "metadata": {
        "id": "OLsacCshySWi"
      },
      "source": [
        "ICU patient's test positivity\n",
        "\n",
        "Through this metric we try to understand what are the chances of a person being COVID +ve if he/she is in ICU."
      ]
    },
    {
      "cell_type": "code",
      "metadata": {
        "colab": {
          "base_uri": "https://localhost:8080/",
          "height": 503
        },
        "id": "hwPNnKTwyYKZ",
        "outputId": "90e4458b-f217-4bdb-d79e-3c5df8e83a1c"
      },
      "source": [
        "df_icu=df[df['icu']=='Yes']\n",
        "sns.catplot('covid_res',data=df_icu,kind='count')\n",
        "plt.title('ICU patient numbers',size=20)\n",
        "plt.xlabel('Results \\n Test postivity rate: {0:.2f} %'.format(\n",
        "    100* df_icu['covid_res'].value_counts()[0]/df_icu['covid_res'].size),size=15)\n",
        "plt.xticks(size=15)"
      ],
      "execution_count": 29,
      "outputs": [
        {
          "output_type": "stream",
          "text": [
            "/usr/local/lib/python3.7/dist-packages/seaborn/_decorators.py:43: FutureWarning: Pass the following variable as a keyword arg: x. From version 0.12, the only valid positional argument will be `data`, and passing other arguments without an explicit keyword will result in an error or misinterpretation.\n",
            "  FutureWarning\n"
          ],
          "name": "stderr"
        },
        {
          "output_type": "execute_result",
          "data": {
            "text/plain": [
              "(array([0, 1]), <a list of 2 Text major ticklabel objects>)"
            ]
          },
          "metadata": {
            "tags": []
          },
          "execution_count": 29
        },
        {
          "output_type": "display_data",
          "data": {
            "image/png": "[encoded data removed]",
            "text/plain": [
              "<Figure size 360x360 with 1 Axes>"
            ]
          },
          "metadata": {
            "tags": [],
            "needs_background": "light"
          }
        }
      ]
    },
    {
      "cell_type": "markdown",
      "metadata": {
        "id": "TxL-a5L5yeXv"
      },
      "source": [
        "here also Covid positivity rate is quite high.\n",
        "\n",
        "ICU report is the good indicator to predict whether the person is Covid +ve or not"
      ]
    },
    {
      "cell_type": "markdown",
      "metadata": {
        "id": "m7dO8pMnym2O"
      },
      "source": [
        "**5. Other Disease reports analysis**"
      ]
    },
    {
      "cell_type": "code",
      "metadata": {
        "colab": {
          "base_uri": "https://localhost:8080/",
          "height": 0
        },
        "id": "_0beAC0ryr91",
        "outputId": "a321a023-9d65-421b-8459-666b56cb1121"
      },
      "source": [
        "df.columns"
      ],
      "execution_count": 30,
      "outputs": [
        {
          "output_type": "execute_result",
          "data": {
            "text/plain": [
              "Index(['sex', 'patient_type', 'entry_date', 'date_symptoms', 'date_died',\n",
              "       'age', 'intubed', 'pneumonia', 'pregnancy', 'diabetes', 'copd',\n",
              "       'asthma', 'inmsupr', 'hypertension', 'other_disease', 'cardiovascular',\n",
              "       'obesity', 'renal_chronic', 'tobacco', 'contact_other_covid',\n",
              "       'covid_res', 'icu'],\n",
              "      dtype='object')"
            ]
          },
          "metadata": {
            "tags": []
          },
          "execution_count": 30
        }
      ]
    },
    {
      "cell_type": "code",
      "metadata": {
        "colab": {
          "base_uri": "https://localhost:8080/",
          "height": 4955
        },
        "id": "6wJCC21rzLwT",
        "outputId": "19d184b3-a09f-4c3e-98e6-0d93fc73840d"
      },
      "source": [
        "fig2=plt.figure(figsize=(22,100))\n",
        "\n",
        "# ax1=fig2.add_subplot(11,2,1)\n",
        "df_pneumonia=df[df['pneumonia']=='Yes']\n",
        "sns.catplot('covid_res',data=df_pneumonia,kind='count')\n",
        "plt.title('pneumonia patient numbers',size=20)\n",
        "plt.xlabel('Results \\n Test postivity rate: {0:.2f} %'.format(\n",
        "    100* df_pneumonia['covid_res'].value_counts()[0]/df_pneumonia['covid_res'].size),size=15)\n",
        "plt.xticks(size=10,)\n",
        "\n",
        "# ax2=fig2.add_subplot(11,2,2)\n",
        "\n",
        "\n",
        "# ax3=fig2.add_subplot(11,2,3)\n",
        "df_icu=df[df['diabetes']=='Yes']\n",
        "sns.catplot('covid_res',data=df_icu,kind='count')\n",
        "plt.title('diabetes patient numbers',size=20)\n",
        "plt.xlabel('Results \\n Test postivity rate: {0:.2f} %'.format(\n",
        "    100* df_icu['covid_res'].value_counts()[0]/df_icu['covid_res'].size),size=15)\n",
        "plt.xticks(size=10)\n",
        "\n",
        "# ax4=fig2.add_subplot(11,2,4)\n",
        "\n",
        "\n",
        "# ax5=fig2.add_subplot(11,2,5)\n",
        "df_icu=df[df['copd']=='Yes']\n",
        "sns.catplot('covid_res',data=df_icu,kind='count')\n",
        "plt.title('copd patient numbers',size=20)\n",
        "plt.xlabel('Results \\n Test postivity rate: {0:.2f} %'.format(\n",
        "    100* df_icu['covid_res'].value_counts()[1]/df_icu['covid_res'].size),size=15)\n",
        "plt.xticks(size=10)\n",
        "\n",
        "\n",
        "# ax7=fig2.add_subplot(11,2,7)\n",
        "df_icu=df[df['asthma']=='Yes']\n",
        "sns.catplot('covid_res',data=df_icu,kind='count')\n",
        "plt.title('asthma patient numbers',size=20)\n",
        "plt.xlabel('Results \\n Test postivity rate: {0:.2f} %'.format(\n",
        "    100* df_icu['covid_res'].value_counts()[1]/df_icu['covid_res'].size),size=15)\n",
        "plt.xticks(size=10)\n",
        "\n",
        "# ax9=fig2.add_subplot(11,2,9)\n",
        "df_icu=df[df['inmsupr']=='Yes']\n",
        "sns.catplot('covid_res',data=df_icu,kind='count')\n",
        "plt.title('inmsupr patient numbers',size=20)\n",
        "plt.xlabel('Results \\n Test postivity rate: {0:.2f} %'.format(\n",
        "    100* df_icu['covid_res'].value_counts()[1]/df_icu['covid_res'].size),size=15)\n",
        "plt.xticks(size=10)\n",
        "\n",
        "# ax10=fig2.add_subplot(11,2,10)\n",
        "\n",
        "# ax11=fig2.add_subplot(11,2,11)\n",
        "df_icu=df[df['hypertension']=='Yes']\n",
        "sns.catplot('covid_res',data=df_icu,kind='count')\n",
        "plt.title('hypertension patient numbers',size=20)\n",
        "plt.xlabel('Results \\n Test postivity rate: {0:.2f} %'.format(\n",
        "    100* df_icu['covid_res'].value_counts()[0]/df_icu['covid_res'].size),size=15)\n",
        "plt.xticks(size=10)\n",
        "\n",
        "# ax12=fig2.add_subplot(11,2,12)\n",
        "\n",
        "# ax13=fig2.add_subplot(11,2,13)\n",
        "df_icu=df[df['other_disease']=='Yes']\n",
        "sns.catplot('covid_res',data=df_icu,kind='count')\n",
        "plt.title('other_disease patient numbers',size=20)\n",
        "plt.xlabel('Results \\n Test postivity rate: {0:.2f} %'.format(\n",
        "    100* df_icu['covid_res'].value_counts()[1]/df_icu['covid_res'].size),size=15)\n",
        "plt.xticks(size=10)\n",
        "\n",
        "# ax14=fig2.add_subplot(11,2,14)\n",
        "\n",
        "# ax15=fig2.add_subplot(11,2,15)\n",
        "df_icu=df[df['cardiovascular']=='Yes']\n",
        "sns.catplot('covid_res',data=df_icu,kind='count')\n",
        "plt.title('cardiovascular patient numbers',size=20)\n",
        "plt.xlabel('Results \\n Test postivity rate: {0:.2f} %'.format(\n",
        "    100* df_icu['covid_res'].value_counts()[1]/df_icu['covid_res'].size),size=15)\n",
        "plt.xticks(size=10)\n",
        "\n",
        "# ax16=fig2.add_subplot(11,2,16)\n",
        "\n",
        "# ax17=fig2.add_subplot(11,2,17)\n",
        "df_icu=df[df['obesity']=='Yes']\n",
        "sns.catplot('covid_res',data=df_icu,kind='count')\n",
        "plt.title('obesity patient numbers',size=20)\n",
        "plt.xlabel('Results \\n Test postivity rate: {0:.2f} %'.format(\n",
        "    100* df_icu['covid_res'].value_counts()[0]/df_icu['covid_res'].size),size=15)\n",
        "plt.xticks(size=10)\n",
        "\n",
        "# ax18=fig2.add_subplot(11,2,18)\n",
        "\n",
        "# ax19=fig2.add_subplot(11,2,19)\n",
        "df_icu=df[df['renal_chronic']=='Yes']\n",
        "sns.catplot('covid_res',data=df_icu,kind='count')\n",
        "plt.title('renal_chronic patient numbers',size=20)\n",
        "plt.xlabel('Results \\n Test postivity rate: {0:.2f} %'.format(\n",
        "    100* df_icu['covid_res'].value_counts()[1]/df_icu['covid_res'].size),size=15)\n",
        "plt.xticks(size=10)\n",
        "\n",
        "# ax20=fig2.add_subplot(11,2,20)\n",
        "\n",
        "# ax21=fig2.add_subplot(11,2,21)\n",
        "df_icu=df[df['tobacco']=='Yes']\n",
        "sns.catplot('covid_res',data=df_icu,kind='count')\n",
        "plt.title('tobacco patient numbers',size=20)\n",
        "plt.xlabel('Results \\n Test postivity rate: {0:.2f} %'.format(\n",
        "    100* df_icu['covid_res'].value_counts()[1]/df_icu['covid_res'].size),size=15)\n",
        "plt.xticks(size=10)\n",
        "\n",
        "# ax22=fig2.add_subplot(11,2,22)"
      ],
      "execution_count": 31,
      "outputs": [
        {
          "output_type": "stream",
          "text": [
            "/usr/local/lib/python3.7/dist-packages/seaborn/_decorators.py:43: FutureWarning: Pass the following variable as a keyword arg: x. From version 0.12, the only valid positional argument will be `data`, and passing other arguments without an explicit keyword will result in an error or misinterpretation.\n",
            "  FutureWarning\n",
            "/usr/local/lib/python3.7/dist-packages/seaborn/_decorators.py:43: FutureWarning: Pass the following variable as a keyword arg: x. From version 0.12, the only valid positional argument will be `data`, and passing other arguments without an explicit keyword will result in an error or misinterpretation.\n",
            "  FutureWarning\n",
            "/usr/local/lib/python3.7/dist-packages/seaborn/_decorators.py:43: FutureWarning: Pass the following variable as a keyword arg: x. From version 0.12, the only valid positional argument will be `data`, and passing other arguments without an explicit keyword will result in an error or misinterpretation.\n",
            "  FutureWarning\n",
            "/usr/local/lib/python3.7/dist-packages/seaborn/_decorators.py:43: FutureWarning: Pass the following variable as a keyword arg: x. From version 0.12, the only valid positional argument will be `data`, and passing other arguments without an explicit keyword will result in an error or misinterpretation.\n",
            "  FutureWarning\n",
            "/usr/local/lib/python3.7/dist-packages/seaborn/_decorators.py:43: FutureWarning: Pass the following variable as a keyword arg: x. From version 0.12, the only valid positional argument will be `data`, and passing other arguments without an explicit keyword will result in an error or misinterpretation.\n",
            "  FutureWarning\n",
            "/usr/local/lib/python3.7/dist-packages/seaborn/_decorators.py:43: FutureWarning: Pass the following variable as a keyword arg: x. From version 0.12, the only valid positional argument will be `data`, and passing other arguments without an explicit keyword will result in an error or misinterpretation.\n",
            "  FutureWarning\n",
            "/usr/local/lib/python3.7/dist-packages/seaborn/_decorators.py:43: FutureWarning: Pass the following variable as a keyword arg: x. From version 0.12, the only valid positional argument will be `data`, and passing other arguments without an explicit keyword will result in an error or misinterpretation.\n",
            "  FutureWarning\n",
            "/usr/local/lib/python3.7/dist-packages/seaborn/_decorators.py:43: FutureWarning: Pass the following variable as a keyword arg: x. From version 0.12, the only valid positional argument will be `data`, and passing other arguments without an explicit keyword will result in an error or misinterpretation.\n",
            "  FutureWarning\n",
            "/usr/local/lib/python3.7/dist-packages/seaborn/_decorators.py:43: FutureWarning: Pass the following variable as a keyword arg: x. From version 0.12, the only valid positional argument will be `data`, and passing other arguments without an explicit keyword will result in an error or misinterpretation.\n",
            "  FutureWarning\n",
            "/usr/local/lib/python3.7/dist-packages/seaborn/_decorators.py:43: FutureWarning: Pass the following variable as a keyword arg: x. From version 0.12, the only valid positional argument will be `data`, and passing other arguments without an explicit keyword will result in an error or misinterpretation.\n",
            "  FutureWarning\n",
            "/usr/local/lib/python3.7/dist-packages/seaborn/_decorators.py:43: FutureWarning: Pass the following variable as a keyword arg: x. From version 0.12, the only valid positional argument will be `data`, and passing other arguments without an explicit keyword will result in an error or misinterpretation.\n",
            "  FutureWarning\n"
          ],
          "name": "stderr"
        },
        {
          "output_type": "execute_result",
          "data": {
            "text/plain": [
              "(array([0, 1]), <a list of 2 Text major ticklabel objects>)"
            ]
          },
          "metadata": {
            "tags": []
          },
          "execution_count": 31
        },
        {
          "output_type": "display_data",
          "data": {
            "text/plain": [
              "<Figure size 1584x7200 with 0 Axes>"
            ]
          },
          "metadata": {
            "tags": []
          }
        },
        {
          "output_type": "display_data",
          "data": {
            "image/png": "[encoded data removed]",
            "text/plain": [
              "<Figure size 360x360 with 1 Axes>"
            ]
          },
          "metadata": {
            "tags": [],
            "needs_background": "light"
          }
        },
        {
          "output_type": "display_data",
          "data": {
            "image/png": "[encoded data removed]",
            "text/plain": [
              "<Figure size 360x360 with 1 Axes>"
            ]
          },
          "metadata": {
            "tags": [],
            "needs_background": "light"
          }
        },
        {
          "output_type": "display_data",
          "data": {
            "image/png": "[encoded data removed]",
            "text/plain": [
              "<Figure size 360x360 with 1 Axes>"
            ]
          },
          "metadata": {
            "tags": [],
            "needs_background": "light"
          }
        },
        {
          "output_type": "display_data",
          "data": {
            "image/png": "[encoded data removed]",
            "text/plain": [
              "<Figure size 360x360 with 1 Axes>"
            ]
          },
          "metadata": {
            "tags": [],
            "needs_background": "light"
          }
        },
        {
          "output_type": "display_data",
          "data": {
            "image/png": "[encoded data removed]",
            "text/plain": [
              "<Figure size 360x360 with 1 Axes>"
            ]
          },
          "metadata": {
            "tags": [],
            "needs_background": "light"
          }
        },
        {
          "output_type": "display_data",
          "data": {
            "image/png": "[encoded data removed]",
            "text/plain": [
              "<Figure size 360x360 with 1 Axes>"
            ]
          },
          "metadata": {
            "tags": [],
            "needs_background": "light"
          }
        },
        {
          "output_type": "display_data",
          "data": {
            "image/png": "[encoded data removed]",
            "text/plain": [
              "<Figure size 360x360 with 1 Axes>"
            ]
          },
          "metadata": {
            "tags": [],
            "needs_background": "light"
          }
        },
        {
          "output_type": "display_data",
          "data": {
            "image/png": "[encoded data removed]",
            "text/plain": [
              "<Figure size 360x360 with 1 Axes>"
            ]
          },
          "metadata": {
            "tags": [],
            "needs_background": "light"
          }
        },
        {
          "output_type": "display_data",
          "data": {
            "image/png": "[encoded data removed]",
            "text/plain": [
              "<Figure size 360x360 with 1 Axes>"
            ]
          },
          "metadata": {
            "tags": [],
            "needs_background": "light"
          }
        },
        {
          "output_type": "display_data",
          "data": {
            "image/png": "[encoded data removed]",
            "text/plain": [
              "<Figure size 360x360 with 1 Axes>"
            ]
          },
          "metadata": {
            "tags": [],
            "needs_background": "light"
          }
        },
        {
          "output_type": "display_data",
          "data": {
            "image/png": "[encoded data removed]",
            "text/plain": [
              "<Figure size 360x360 with 1 Axes>"
            ]
          },
          "metadata": {
            "tags": [],
            "needs_background": "light"
          }
        }
      ]
    },
    {
      "cell_type": "markdown",
      "metadata": {
        "id": "X_sRq-HZzeSZ"
      },
      "source": [
        "Observations\n",
        "\n",
        "There is a high chance of a person being affected by Covid 19, if he/she is a pneumonia patient (67.37 %)\n",
        "\n",
        "Those patient who are diabetic, have high chance of being covid positive (58.04 %)\n",
        "\n",
        "Hypertensed and obese patients have decent 50 % probability of being Covid positive (54 % and 52 % respectively)\n",
        "\n",
        "Let's analyse now, how people of different age groups relates with Covid positivity"
      ]
    },
    {
      "cell_type": "markdown",
      "metadata": {
        "id": "FhCe_F3TzryC"
      },
      "source": [
        "**6. Age band**"
      ]
    },
    {
      "cell_type": "code",
      "metadata": {
        "id": "ZCS0-Tz4zuvy"
      },
      "source": [
        "df1=df\n",
        "df1\n",
        "df1.iloc[:,-2]=df.iloc[:,-2].replace('Positive',1)\n",
        "df1.iloc[:,-2]=df.iloc[:,-2].replace('Negative',0)\n",
        "# df1.iloc[:,-2]=df.iloc[:,-2].replace('Results awaited',3)\n",
        "df1\n",
        "df1 = df1[df1['covid_res']!=3]"
      ],
      "execution_count": 32,
      "outputs": []
    },
    {
      "cell_type": "code",
      "metadata": {
        "id": "fciqwYX1z1Qo"
      },
      "source": [
        "def age_band(age):\n",
        "    \n",
        "    if age<2:\n",
        "        return '0-2'\n",
        "    elif (age>1) and (age<11):\n",
        "        return '2-10'\n",
        "    elif (age>10 and age<21):\n",
        "        return '10-20'\n",
        "    elif (age>20 and age<31):\n",
        "        return '20-30'\n",
        "    elif (age>30 and age<41):\n",
        "        return '30-40'\n",
        "    elif (age>40 and age<51):\n",
        "        return '40-50'\n",
        "    elif (age>50 and age<61):\n",
        "        return '50-60'\n",
        "    elif (age>60 and age<81):\n",
        "        return '60-80'\n",
        "    else:\n",
        "        return 'Above 80'"
      ],
      "execution_count": 33,
      "outputs": []
    },
    {
      "cell_type": "code",
      "metadata": {
        "colab": {
          "base_uri": "https://localhost:8080/",
          "height": 869
        },
        "id": "7olHjH9Iz55e",
        "outputId": "90a4f02b-8c1e-4771-b827-8143b1554bfd"
      },
      "source": [
        "# df_pos=df1[df1['covid_res']=='Positive']\n",
        "df1['Age_band']=df1['age'].apply(age_band)\n",
        "df1['Count']=1\n",
        "df_Age_Band = df1.groupby('Age_band')['covid_res','Count'].sum().reset_index()\n",
        "df_Age_Band['Percentage_covid_positive']=100*df_Age_Band.covid_res/df_Age_Band.Count\n",
        "#df_Age_Band.sort_values(by='covid_res',ascending=False).reset_index(drop=True)\n",
        "df_Age_Band.sort_values(by='Percentage_covid_positive',ascending=False).reset_index(drop=True)\n",
        "\n",
        "sns.catplot(x = 'Age_band', y ='Percentage_covid_positive', data = df_Age_Band, kind= 'bar', size = 10)\n",
        "plt.title('Covid Positive vs Age group', size = 18)"
      ],
      "execution_count": 34,
      "outputs": [
        {
          "output_type": "stream",
          "text": [
            "/usr/local/lib/python3.7/dist-packages/ipykernel_launcher.py:4: FutureWarning: Indexing with multiple keys (implicitly converted to a tuple of keys) will be deprecated, use a list instead.\n",
            "  after removing the cwd from sys.path.\n",
            "/usr/local/lib/python3.7/dist-packages/seaborn/categorical.py:3747: UserWarning: The `size` parameter has been renamed to `height`; please update your code.\n",
            "  warnings.warn(msg, UserWarning)\n"
          ],
          "name": "stderr"
        },
        {
          "output_type": "execute_result",
          "data": {
            "text/plain": [
              "Text(0.5, 1.0, 'Covid Positive vs Age group')"
            ]
          },
          "metadata": {
            "tags": []
          },
          "execution_count": 34
        },
        {
          "output_type": "display_data",
          "data": {
            "image/png": "[encoded data removed]",
            "text/plain": [
              "<Figure size 720x720 with 1 Axes>"
            ]
          },
          "metadata": {
            "tags": [],
            "needs_background": "light"
          }
        }
      ]
    },
    {
      "cell_type": "markdown",
      "metadata": {
        "id": "61iJ12Ey0EjD"
      },
      "source": [
        "Observations\n",
        "\n",
        "There is high chance of infection to the people of age group 60-80\n",
        "\n",
        "Senior citizens (age > 50) are most likely to be caught by Covid 19 virus.\n",
        "\n",
        "Does Covid-19 positivity depends on Gender?, Lets analyse"
      ]
    },
    {
      "cell_type": "markdown",
      "metadata": {
        "id": "FYlYyoPW0Qpa"
      },
      "source": [
        "**7. Sex**"
      ]
    },
    {
      "cell_type": "code",
      "metadata": {
        "colab": {
          "base_uri": "https://localhost:8080/",
          "height": 312
        },
        "id": "fI4PzMdr0ZZo",
        "outputId": "19750633-a32a-4a6a-9bb3-1c2c7c9853da"
      },
      "source": [
        "df['sex'].replace(1,'Female',inplace=True)\n",
        "df['sex'].replace(2,'Male',inplace=True)\n",
        "\n",
        "plt.hist(df['sex'],bins=2,edgecolor='black')\n",
        "plt.title('Gender Distribution')\n",
        "plt.xlabel('Male- 287112    Female-279486')"
      ],
      "execution_count": 35,
      "outputs": [
        {
          "output_type": "execute_result",
          "data": {
            "text/plain": [
              "Text(0.5, 0, 'Male- 287112    Female-279486')"
            ]
          },
          "metadata": {
            "tags": []
          },
          "execution_count": 35
        },
        {
          "output_type": "display_data",
          "data": {
            "image/png": "[encoded data removed]",
            "text/plain": [
              "<Figure size 432x288 with 1 Axes>"
            ]
          },
          "metadata": {
            "tags": [],
            "needs_background": "light"
          }
        }
      ]
    },
    {
      "cell_type": "code",
      "metadata": {
        "id": "duyA8zaQ0dlZ"
      },
      "source": [
        "df_pos=df[df['covid_res']==1]\n",
        "#df_pos\n",
        "pos_male = df_pos[df_pos['sex']=='Male']\n",
        "pos_female = df_pos[df_pos['sex']=='Female']\n",
        "#pos_female"
      ],
      "execution_count": 36,
      "outputs": []
    },
    {
      "cell_type": "code",
      "metadata": {
        "colab": {
          "base_uri": "https://localhost:8080/",
          "height": 346
        },
        "id": "PvIffpPC0hhk",
        "outputId": "4306bed1-0af7-4569-cc65-f6d1ee9293f6"
      },
      "source": [
        "pos=[len(pos_male),len(pos_female)]\n",
        "gen=['Male','Female']\n",
        "plt.bar(gen,pos)#,edgecolor='black')\n",
        "plt.title('Gender covid +ve Number')\n",
        "male_pos_percent = (len(pos_male)/len(df_pos))*100\n",
        "female_pos_percent = (len(pos_female)/len(df_pos))*100\n",
        "print(male_pos_percent)\n",
        "print(female_pos_percent)\n",
        "plt.xlabel('Male- 54.75%    Female-45.25%')"
      ],
      "execution_count": 37,
      "outputs": [
        {
          "output_type": "stream",
          "text": [
            "54.74514744603616\n",
            "45.25485255396384\n"
          ],
          "name": "stdout"
        },
        {
          "output_type": "execute_result",
          "data": {
            "text/plain": [
              "Text(0.5, 0, 'Male- 54.75%    Female-45.25%')"
            ]
          },
          "metadata": {
            "tags": []
          },
          "execution_count": 37
        },
        {
          "output_type": "display_data",
          "data": {
            "image/png": "[encoded data removed]",
            "text/plain": [
              "<Figure size 432x288 with 1 Axes>"
            ]
          },
          "metadata": {
            "tags": [],
            "needs_background": "light"
          }
        }
      ]
    },
    {
      "cell_type": "code",
      "metadata": {
        "colab": {
          "base_uri": "https://localhost:8080/",
          "height": 843
        },
        "id": "wtfwBuU00nAs",
        "outputId": "4796ee04-8849-4a29-f78f-e99ce0594d49"
      },
      "source": [
        "sns.set()\n",
        "fig1=plt.figure(figsize=(15,12))\n",
        "ax1=fig1.add_subplot(221)\n",
        "a=sns.distplot(df['age'],ax=ax1,label='Population ages')\n",
        "ax1.legend()\n",
        "ax1.set_title('Complete population age distribution',size=15)\n",
        "ax2=fig1.add_subplot(222)\n",
        "\n",
        "df_m=df[df['sex']=='Male']\n",
        "df_f=df[df['sex']=='Female']\n",
        "\n",
        "b=sns.kdeplot(df_m['age'],shade=True,ax=ax2,label='Male age distribution',color='orange')\n",
        "c=sns.kdeplot(df_f['age'],ax=ax2,label='Female age distribution',color='green',shade=True)\n",
        "ax2.set_xlabel('Age')\n",
        "ax2.set_title('Gender wise age distribution',size=15)\n",
        "ax3=fig1.add_subplot(223)\n",
        "a=sns.distplot(df_pos['age'],ax=ax3,label='Population ages')\n",
        "ax3.legend()\n",
        "ax3.set_title('Covid +ve population age distribution',size=15)\n",
        "ax4=fig1.add_subplot(224)\n",
        "\n",
        "df_m_pos=df_pos[df_pos['sex']=='Male']\n",
        "df_f_pos=df_pos[df_pos['sex']=='Female']\n",
        "\n",
        "b=sns.kdeplot(df_m_pos['age'],shade=True,ax=ax4,label='Male covid+ve age distribution',color='orange')\n",
        "c=sns.kdeplot(df_f_pos['age'],ax=ax4,label='Female covid+ve age distribution',color='green',shade=True)\n",
        "ax4.set_xlabel('Age')\n",
        "ax4.set_title('Gender wise covid+ve age distribution',size=15)"
      ],
      "execution_count": 38,
      "outputs": [
        {
          "output_type": "stream",
          "text": [
            "/usr/local/lib/python3.7/dist-packages/seaborn/distributions.py:2557: FutureWarning: `distplot` is a deprecated function and will be removed in a future version. Please adapt your code to use either `displot` (a figure-level function with similar flexibility) or `histplot` (an axes-level function for histograms).\n",
            "  warnings.warn(msg, FutureWarning)\n",
            "/usr/local/lib/python3.7/dist-packages/seaborn/distributions.py:2557: FutureWarning: `distplot` is a deprecated function and will be removed in a future version. Please adapt your code to use either `displot` (a figure-level function with similar flexibility) or `histplot` (an axes-level function for histograms).\n",
            "  warnings.warn(msg, FutureWarning)\n"
          ],
          "name": "stderr"
        },
        {
          "output_type": "execute_result",
          "data": {
            "text/plain": [
              "Text(0.5, 1.0, 'Gender wise covid+ve age distribution')"
            ]
          },
          "metadata": {
            "tags": []
          },
          "execution_count": 38
        },
        {
          "output_type": "display_data",
          "data": {
            "image/png": "[encoded data removed]",
            "text/plain": [
              "<Figure size 1080x864 with 4 Axes>"
            ]
          },
          "metadata": {
            "tags": []
          }
        }
      ]
    },
    {
      "cell_type": "markdown",
      "metadata": {
        "id": "pfndiykJ01GP"
      },
      "source": [
        "From the above left graph, we can see that we have a bimodal graph with high distribution from 20-60 years. There is also a peak in the lower section of the graph meaning we have high number of infants in our distribution.\n",
        "\n",
        "On the right, we see that the distribution for both women and men is nearly identical. This is great because it will let us understand the body responses of the sexes with an identical age distribution."
      ]
    },
    {
      "cell_type": "markdown",
      "metadata": {
        "id": "xwLHempU1Ej8"
      },
      "source": [
        "**9. Fatality**"
      ]
    },
    {
      "cell_type": "code",
      "metadata": {
        "colab": {
          "base_uri": "https://localhost:8080/",
          "height": 0
        },
        "id": "ZyzMe-mv1I63",
        "outputId": "4e8cb555-eeeb-4370-fef1-bf9dfdff27e4"
      },
      "source": [
        "df_pos=df[df['covid_res']==1]\n",
        "df_pos.reset_index(drop=True,inplace=True)\n",
        "df_pos['Fatal']=np.nan\n",
        "\n",
        "i=0\n",
        "for i in range(len(df_pos)):\n",
        "    if df_pos['date_died'][i]!='NA':\n",
        "        df_pos['Fatal'][i]='Yes'\n",
        "\n",
        "df_pos['Fatal']=df_pos['Fatal'].fillna('No')\n",
        "df_pos['Fatal']"
      ],
      "execution_count": 39,
      "outputs": [
        {
          "output_type": "stream",
          "text": [
            "/usr/local/lib/python3.7/dist-packages/ipykernel_launcher.py:3: SettingWithCopyWarning: \n",
            "A value is trying to be set on a copy of a slice from a DataFrame.\n",
            "Try using .loc[row_indexer,col_indexer] = value instead\n",
            "\n",
            "See the caveats in the documentation: https://pandas.pydata.org/pandas-docs/stable/user_guide/indexing.html#returning-a-view-versus-a-copy\n",
            "  This is separate from the ipykernel package so we can avoid doing imports until\n",
            "/usr/local/lib/python3.7/dist-packages/ipykernel_launcher.py:8: SettingWithCopyWarning: \n",
            "A value is trying to be set on a copy of a slice from a DataFrame\n",
            "\n",
            "See the caveats in the documentation: https://pandas.pydata.org/pandas-docs/stable/user_guide/indexing.html#returning-a-view-versus-a-copy\n",
            "  \n",
            "/usr/local/lib/python3.7/dist-packages/pandas/core/indexing.py:670: SettingWithCopyWarning: \n",
            "A value is trying to be set on a copy of a slice from a DataFrame\n",
            "\n",
            "See the caveats in the documentation: https://pandas.pydata.org/pandas-docs/stable/user_guide/indexing.html#returning-a-view-versus-a-copy\n",
            "  iloc._setitem_with_indexer(indexer, value)\n",
            "/usr/local/lib/python3.7/dist-packages/pandas/core/series.py:1009: SettingWithCopyWarning: \n",
            "A value is trying to be set on a copy of a slice from a DataFrame\n",
            "\n",
            "See the caveats in the documentation: https://pandas.pydata.org/pandas-docs/stable/user_guide/indexing.html#returning-a-view-versus-a-copy\n",
            "  self.loc[key] = value\n",
            "/usr/local/lib/python3.7/dist-packages/IPython/core/interactiveshell.py:2882: SettingWithCopyWarning: \n",
            "A value is trying to be set on a copy of a slice from a DataFrame\n",
            "\n",
            "See the caveats in the documentation: https://pandas.pydata.org/pandas-docs/stable/user_guide/indexing.html#returning-a-view-versus-a-copy\n",
            "  exec(code_obj, self.user_global_ns, self.user_ns)\n",
            "/usr/local/lib/python3.7/dist-packages/ipykernel_launcher.py:10: SettingWithCopyWarning: \n",
            "A value is trying to be set on a copy of a slice from a DataFrame.\n",
            "Try using .loc[row_indexer,col_indexer] = value instead\n",
            "\n",
            "See the caveats in the documentation: https://pandas.pydata.org/pandas-docs/stable/user_guide/indexing.html#returning-a-view-versus-a-copy\n",
            "  # Remove the CWD from sys.path while we load stuff.\n"
          ],
          "name": "stderr"
        },
        {
          "output_type": "execute_result",
          "data": {
            "text/plain": [
              "0          No\n",
              "1          No\n",
              "2          No\n",
              "3          No\n",
              "4         Yes\n",
              "         ... \n",
              "220652    Yes\n",
              "220653     No\n",
              "220654     No\n",
              "220655     No\n",
              "220656     No\n",
              "Name: Fatal, Length: 220657, dtype: object"
            ]
          },
          "metadata": {
            "tags": []
          },
          "execution_count": 39
        }
      ]
    },
    {
      "cell_type": "code",
      "metadata": {
        "colab": {
          "base_uri": "https://localhost:8080/",
          "height": 1079
        },
        "id": "_ZCdJM2G4DLL",
        "outputId": "2e0b5a4c-189e-4428-ebc8-3bdbaa772430"
      },
      "source": [
        "fig2=plt.figure(figsize=(15,15))\n",
        "ax1=fig2.add_subplot(2,2,1)\n",
        "ax2=fig2.add_subplot(2,2,2)\n",
        "ax3=fig2.add_subplot(2,2,3)\n",
        "ax4=fig2.add_subplot(2,2,4)\n",
        "df_pneu=df_pos[df_pos['pneumonia']=='Yes']\n",
        "df_preg=df_pos[df_pos['pregnancy']=='Yes']\n",
        "df_card=df_pos[df_pos['cardiovascular']=='Yes']\n",
        "df_obes=df_pos[df_pos['obesity']=='Yes']\n",
        "\n",
        "\n",
        "sns.countplot('pneumonia',data=df_pneu,hue='Fatal',ax=ax1,palette='gnuplot')\n",
        "sns.countplot('pregnancy',data=df_preg,hue='Fatal',ax=ax2,palette='summer')\n",
        "sns.countplot('cardiovascular',data=df_card,hue='Fatal',ax=ax3,palette='viridis')\n",
        "sns.countplot('obesity',data=df_obes,hue='Fatal',ax=ax4,palette='winter')\n",
        "\n",
        "ax1.set_title('Pneumonia + COVID',size=20)\n",
        "ax2.set_title('Pregnancy + COVID',size=20)\n",
        "ax3.set_title('Cardiovascular disease + COVID',size=20)\n",
        "ax4.set_title('Obesity + COVID',size=20)\n",
        "\n",
        "\n",
        "\n",
        "\n",
        "\n",
        "\n",
        "ax1.set_xlabel('Fatality rate: {0:.2f} %'.format(100*df_pneu['Fatal'].value_counts()[1]/df_pneu['Fatal'].shape[0]),size=15)\n",
        "\n",
        "\n",
        "ax2.set_xlabel('Fatality rate: {0:.2f} %'.format(100*df_preg['Fatal'].value_counts()[1]/df_preg['Fatal'].shape[0]),size=15)\n",
        "\n",
        "\n",
        "ax3.set_xlabel('Fatality rate: {0:.2f} %'.format(100*df_card['Fatal'].value_counts()[1]/df_card['Fatal'].shape[0]),size=15)\n",
        "\n",
        "\n",
        "ax4.set_xlabel('Fatality rate: {0:.2f} %'.format(100*df_obes['Fatal'].value_counts()[1]/df_obes['Fatal'].shape[0]),size=15)"
      ],
      "execution_count": 40,
      "outputs": [
        {
          "output_type": "stream",
          "text": [
            "/usr/local/lib/python3.7/dist-packages/seaborn/_decorators.py:43: FutureWarning: Pass the following variable as a keyword arg: x. From version 0.12, the only valid positional argument will be `data`, and passing other arguments without an explicit keyword will result in an error or misinterpretation.\n",
            "  FutureWarning\n",
            "/usr/local/lib/python3.7/dist-packages/seaborn/_decorators.py:43: FutureWarning: Pass the following variable as a keyword arg: x. From version 0.12, the only valid positional argument will be `data`, and passing other arguments without an explicit keyword will result in an error or misinterpretation.\n",
            "  FutureWarning\n",
            "/usr/local/lib/python3.7/dist-packages/seaborn/_decorators.py:43: FutureWarning: Pass the following variable as a keyword arg: x. From version 0.12, the only valid positional argument will be `data`, and passing other arguments without an explicit keyword will result in an error or misinterpretation.\n",
            "  FutureWarning\n",
            "/usr/local/lib/python3.7/dist-packages/seaborn/_decorators.py:43: FutureWarning: Pass the following variable as a keyword arg: x. From version 0.12, the only valid positional argument will be `data`, and passing other arguments without an explicit keyword will result in an error or misinterpretation.\n",
            "  FutureWarning\n"
          ],
          "name": "stderr"
        },
        {
          "output_type": "execute_result",
          "data": {
            "text/plain": [
              "Text(0.5, 0, 'Fatality rate: 15.70 %')"
            ]
          },
          "metadata": {
            "tags": []
          },
          "execution_count": 40
        },
        {
          "output_type": "display_data",
          "data": {
            "image/png": "[encoded data removed]",
            "text/plain": [
              "<Figure size 1080x1080 with 4 Axes>"
            ]
          },
          "metadata": {
            "tags": []
          }
        }
      ]
    },
    {
      "cell_type": "markdown",
      "metadata": {
        "id": "rO36MT3J5Gtc"
      },
      "source": [
        "Note:\n",
        "\n",
        "Dropping date_died column as no relation with predicting covid positive.\n",
        "\n",
        "Columns- pregnancy, intubed, contct_other_covid have more than 50% null values so dropping"
      ]
    },
    {
      "cell_type": "code",
      "metadata": {
        "id": "DHINIEdO4-dk"
      },
      "source": [
        "df=df.drop(columns=['date_died','pregnancy','contact_other_covid','intubed','icu'])"
      ],
      "execution_count": 41,
      "outputs": []
    },
    {
      "cell_type": "markdown",
      "metadata": {
        "id": "xMzfK_Gd5PGu"
      },
      "source": [
        "**Feature Extraction from date_symptom and entry_date**"
      ]
    },
    {
      "cell_type": "code",
      "metadata": {
        "colab": {
          "base_uri": "https://localhost:8080/",
          "height": 0
        },
        "id": "KjYI_TXL5TPc",
        "outputId": "4a0ca265-087b-4c0f-9436-8468a9e7d6f1"
      },
      "source": [
        "df['delta']=abs(df['entry_date']-df['date_symptoms'])\n",
        "df.loc[1,'delta']\n",
        "df['delta'] = df['delta'].dt.days.astype('int16')  #Converting Timedelta type to integer days\n",
        "df['delta']"
      ],
      "execution_count": 42,
      "outputs": [
        {
          "output_type": "execute_result",
          "data": {
            "text/plain": [
              "0          60\n",
              "1           2\n",
              "2         152\n",
              "3         170\n",
              "4           0\n",
              "         ... \n",
              "499687      6\n",
              "499688      5\n",
              "499689      3\n",
              "499690      2\n",
              "499691      8\n",
              "Name: delta, Length: 499692, dtype: int16"
            ]
          },
          "metadata": {
            "tags": []
          },
          "execution_count": 42
        }
      ]
    },
    {
      "cell_type": "markdown",
      "metadata": {
        "id": "NO208fOy5m6C"
      },
      "source": [
        "Note:\n",
        "\n",
        "Dropping columns entry_date and date_symptoms"
      ]
    },
    {
      "cell_type": "code",
      "metadata": {
        "id": "Pq6rQiAj5rSm"
      },
      "source": [
        "df=df.drop(columns=['entry_date','date_symptoms'])"
      ],
      "execution_count": 43,
      "outputs": []
    },
    {
      "cell_type": "code",
      "metadata": {
        "colab": {
          "base_uri": "https://localhost:8080/",
          "height": 0
        },
        "id": "sxKOEiIf5vk0",
        "outputId": "5bfdd0da-6ed8-4014-b633-274409c295d4"
      },
      "source": [
        "df.columns"
      ],
      "execution_count": 44,
      "outputs": [
        {
          "output_type": "execute_result",
          "data": {
            "text/plain": [
              "Index(['sex', 'patient_type', 'age', 'pneumonia', 'diabetes', 'copd', 'asthma',\n",
              "       'inmsupr', 'hypertension', 'other_disease', 'cardiovascular', 'obesity',\n",
              "       'renal_chronic', 'tobacco', 'covid_res', 'delta'],\n",
              "      dtype='object')"
            ]
          },
          "metadata": {
            "tags": []
          },
          "execution_count": 44
        }
      ]
    },
    {
      "cell_type": "markdown",
      "metadata": {
        "id": "JDCgESAP54Ul"
      },
      "source": [
        "Note:\n",
        "\n",
        "There are few Null values present in columns that are categorical variables so we will drop Null values"
      ]
    },
    {
      "cell_type": "code",
      "metadata": {
        "id": "A479e59P56AX"
      },
      "source": [
        "df=df.dropna()"
      ],
      "execution_count": 45,
      "outputs": []
    },
    {
      "cell_type": "code",
      "metadata": {
        "colab": {
          "base_uri": "https://localhost:8080/",
          "height": 0
        },
        "id": "hXgxFSPA5_Ni",
        "outputId": "7d7200ea-f9b6-46ff-afbf-064ec8a4c372"
      },
      "source": [
        "len(df)"
      ],
      "execution_count": 46,
      "outputs": [
        {
          "output_type": "execute_result",
          "data": {
            "text/plain": [
              "496291"
            ]
          },
          "metadata": {
            "tags": []
          },
          "execution_count": 46
        }
      ]
    },
    {
      "cell_type": "code",
      "metadata": {
        "colab": {
          "base_uri": "https://localhost:8080/",
          "height": 439
        },
        "id": "QG0Tcl806C7X",
        "outputId": "8fd0dfa5-a5d8-451e-cc98-ac5bc089691b"
      },
      "source": [
        "df"
      ],
      "execution_count": 47,
      "outputs": [
        {
          "output_type": "execute_result",
          "data": {
            "text/html": [
              "<div>\n",
              "<style scoped>\n",
              "    .dataframe tbody tr th:only-of-type {\n",
              "        vertical-align: middle;\n",
              "    }\n",
              "\n",
              "    .dataframe tbody tr th {\n",
              "        vertical-align: top;\n",
              "    }\n",
              "\n",
              "    .dataframe thead th {\n",
              "        text-align: right;\n",
              "    }\n",
              "</style>\n",
              "<table border=\"1\" class=\"dataframe\">\n",
              "  <thead>\n",
              "    <tr style=\"text-align: right;\">\n",
              "      <th></th>\n",
              "      <th>sex</th>\n",
              "      <th>patient_type</th>\n",
              "      <th>age</th>\n",
              "      <th>pneumonia</th>\n",
              "      <th>diabetes</th>\n",
              "      <th>copd</th>\n",
              "      <th>asthma</th>\n",
              "      <th>inmsupr</th>\n",
              "      <th>hypertension</th>\n",
              "      <th>other_disease</th>\n",
              "      <th>cardiovascular</th>\n",
              "      <th>obesity</th>\n",
              "      <th>renal_chronic</th>\n",
              "      <th>tobacco</th>\n",
              "      <th>covid_res</th>\n",
              "      <th>delta</th>\n",
              "    </tr>\n",
              "  </thead>\n",
              "  <tbody>\n",
              "    <tr>\n",
              "      <th>0</th>\n",
              "      <td>Male</td>\n",
              "      <td>1</td>\n",
              "      <td>27</td>\n",
              "      <td>No</td>\n",
              "      <td>No</td>\n",
              "      <td>No</td>\n",
              "      <td>No</td>\n",
              "      <td>No</td>\n",
              "      <td>No</td>\n",
              "      <td>No</td>\n",
              "      <td>No</td>\n",
              "      <td>No</td>\n",
              "      <td>No</td>\n",
              "      <td>No</td>\n",
              "      <td>1</td>\n",
              "      <td>60</td>\n",
              "    </tr>\n",
              "    <tr>\n",
              "      <th>1</th>\n",
              "      <td>Male</td>\n",
              "      <td>1</td>\n",
              "      <td>24</td>\n",
              "      <td>No</td>\n",
              "      <td>No</td>\n",
              "      <td>No</td>\n",
              "      <td>No</td>\n",
              "      <td>No</td>\n",
              "      <td>No</td>\n",
              "      <td>No</td>\n",
              "      <td>No</td>\n",
              "      <td>No</td>\n",
              "      <td>No</td>\n",
              "      <td>No</td>\n",
              "      <td>1</td>\n",
              "      <td>2</td>\n",
              "    </tr>\n",
              "    <tr>\n",
              "      <th>2</th>\n",
              "      <td>Female</td>\n",
              "      <td>2</td>\n",
              "      <td>54</td>\n",
              "      <td>No</td>\n",
              "      <td>No</td>\n",
              "      <td>No</td>\n",
              "      <td>No</td>\n",
              "      <td>No</td>\n",
              "      <td>No</td>\n",
              "      <td>No</td>\n",
              "      <td>No</td>\n",
              "      <td>Yes</td>\n",
              "      <td>No</td>\n",
              "      <td>No</td>\n",
              "      <td>1</td>\n",
              "      <td>152</td>\n",
              "    </tr>\n",
              "    <tr>\n",
              "      <th>3</th>\n",
              "      <td>Male</td>\n",
              "      <td>2</td>\n",
              "      <td>30</td>\n",
              "      <td>Yes</td>\n",
              "      <td>No</td>\n",
              "      <td>No</td>\n",
              "      <td>No</td>\n",
              "      <td>No</td>\n",
              "      <td>No</td>\n",
              "      <td>No</td>\n",
              "      <td>No</td>\n",
              "      <td>No</td>\n",
              "      <td>No</td>\n",
              "      <td>No</td>\n",
              "      <td>1</td>\n",
              "      <td>170</td>\n",
              "    </tr>\n",
              "    <tr>\n",
              "      <th>4</th>\n",
              "      <td>Female</td>\n",
              "      <td>2</td>\n",
              "      <td>60</td>\n",
              "      <td>No</td>\n",
              "      <td>Yes</td>\n",
              "      <td>No</td>\n",
              "      <td>No</td>\n",
              "      <td>No</td>\n",
              "      <td>Yes</td>\n",
              "      <td>No</td>\n",
              "      <td>Yes</td>\n",
              "      <td>No</td>\n",
              "      <td>No</td>\n",
              "      <td>No</td>\n",
              "      <td>1</td>\n",
              "      <td>0</td>\n",
              "    </tr>\n",
              "    <tr>\n",
              "      <th>...</th>\n",
              "      <td>...</td>\n",
              "      <td>...</td>\n",
              "      <td>...</td>\n",
              "      <td>...</td>\n",
              "      <td>...</td>\n",
              "      <td>...</td>\n",
              "      <td>...</td>\n",
              "      <td>...</td>\n",
              "      <td>...</td>\n",
              "      <td>...</td>\n",
              "      <td>...</td>\n",
              "      <td>...</td>\n",
              "      <td>...</td>\n",
              "      <td>...</td>\n",
              "      <td>...</td>\n",
              "      <td>...</td>\n",
              "    </tr>\n",
              "    <tr>\n",
              "      <th>499687</th>\n",
              "      <td>Male</td>\n",
              "      <td>1</td>\n",
              "      <td>77</td>\n",
              "      <td>Yes</td>\n",
              "      <td>No</td>\n",
              "      <td>No</td>\n",
              "      <td>No</td>\n",
              "      <td>No</td>\n",
              "      <td>No</td>\n",
              "      <td>Yes</td>\n",
              "      <td>No</td>\n",
              "      <td>No</td>\n",
              "      <td>No</td>\n",
              "      <td>Yes</td>\n",
              "      <td>0</td>\n",
              "      <td>6</td>\n",
              "    </tr>\n",
              "    <tr>\n",
              "      <th>499688</th>\n",
              "      <td>Male</td>\n",
              "      <td>2</td>\n",
              "      <td>63</td>\n",
              "      <td>Yes</td>\n",
              "      <td>No</td>\n",
              "      <td>No</td>\n",
              "      <td>No</td>\n",
              "      <td>No</td>\n",
              "      <td>Yes</td>\n",
              "      <td>No</td>\n",
              "      <td>No</td>\n",
              "      <td>Yes</td>\n",
              "      <td>No</td>\n",
              "      <td>Yes</td>\n",
              "      <td>0</td>\n",
              "      <td>5</td>\n",
              "    </tr>\n",
              "    <tr>\n",
              "      <th>499689</th>\n",
              "      <td>Female</td>\n",
              "      <td>1</td>\n",
              "      <td>25</td>\n",
              "      <td>No</td>\n",
              "      <td>No</td>\n",
              "      <td>No</td>\n",
              "      <td>No</td>\n",
              "      <td>No</td>\n",
              "      <td>No</td>\n",
              "      <td>No</td>\n",
              "      <td>No</td>\n",
              "      <td>No</td>\n",
              "      <td>No</td>\n",
              "      <td>No</td>\n",
              "      <td>0</td>\n",
              "      <td>3</td>\n",
              "    </tr>\n",
              "    <tr>\n",
              "      <th>499690</th>\n",
              "      <td>Female</td>\n",
              "      <td>1</td>\n",
              "      <td>45</td>\n",
              "      <td>No</td>\n",
              "      <td>No</td>\n",
              "      <td>No</td>\n",
              "      <td>No</td>\n",
              "      <td>No</td>\n",
              "      <td>Yes</td>\n",
              "      <td>No</td>\n",
              "      <td>No</td>\n",
              "      <td>No</td>\n",
              "      <td>No</td>\n",
              "      <td>No</td>\n",
              "      <td>0</td>\n",
              "      <td>2</td>\n",
              "    </tr>\n",
              "    <tr>\n",
              "      <th>499691</th>\n",
              "      <td>Female</td>\n",
              "      <td>1</td>\n",
              "      <td>51</td>\n",
              "      <td>No</td>\n",
              "      <td>No</td>\n",
              "      <td>No</td>\n",
              "      <td>No</td>\n",
              "      <td>No</td>\n",
              "      <td>No</td>\n",
              "      <td>No</td>\n",
              "      <td>No</td>\n",
              "      <td>No</td>\n",
              "      <td>No</td>\n",
              "      <td>No</td>\n",
              "      <td>0</td>\n",
              "      <td>8</td>\n",
              "    </tr>\n",
              "  </tbody>\n",
              "</table>\n",
              "<p>496291 rows × 16 columns</p>\n",
              "</div>"
            ],
            "text/plain": [
              "           sex  patient_type  age  ... tobacco covid_res delta\n",
              "0         Male             1   27  ...      No         1    60\n",
              "1         Male             1   24  ...      No         1     2\n",
              "2       Female             2   54  ...      No         1   152\n",
              "3         Male             2   30  ...      No         1   170\n",
              "4       Female             2   60  ...      No         1     0\n",
              "...        ...           ...  ...  ...     ...       ...   ...\n",
              "499687    Male             1   77  ...     Yes         0     6\n",
              "499688    Male             2   63  ...     Yes         0     5\n",
              "499689  Female             1   25  ...      No         0     3\n",
              "499690  Female             1   45  ...      No         0     2\n",
              "499691  Female             1   51  ...      No         0     8\n",
              "\n",
              "[496291 rows x 16 columns]"
            ]
          },
          "metadata": {
            "tags": []
          },
          "execution_count": 47
        }
      ]
    },
    {
      "cell_type": "code",
      "metadata": {
        "id": "gibMRDIW6IfN"
      },
      "source": [
        "from sklearn.preprocessing import OrdinalEncoder\n",
        "oe = OrdinalEncoder()"
      ],
      "execution_count": 48,
      "outputs": []
    },
    {
      "cell_type": "code",
      "metadata": {
        "colab": {
          "base_uri": "https://localhost:8080/",
          "height": 419
        },
        "id": "1s3X1s7b6VY-",
        "outputId": "79c9452a-83dd-4baa-f2c9-b48b5f9640f0"
      },
      "source": [
        "X_=df[['sex', 'patient_type', 'pneumonia', 'diabetes', 'copd', 'asthma',\n",
        "       'inmsupr', 'hypertension', 'other_disease', 'cardiovascular', 'obesity',\n",
        "       'renal_chronic', 'tobacco']]\n",
        "X_"
      ],
      "execution_count": 49,
      "outputs": [
        {
          "output_type": "execute_result",
          "data": {
            "text/html": [
              "<div>\n",
              "<style scoped>\n",
              "    .dataframe tbody tr th:only-of-type {\n",
              "        vertical-align: middle;\n",
              "    }\n",
              "\n",
              "    .dataframe tbody tr th {\n",
              "        vertical-align: top;\n",
              "    }\n",
              "\n",
              "    .dataframe thead th {\n",
              "        text-align: right;\n",
              "    }\n",
              "</style>\n",
              "<table border=\"1\" class=\"dataframe\">\n",
              "  <thead>\n",
              "    <tr style=\"text-align: right;\">\n",
              "      <th></th>\n",
              "      <th>sex</th>\n",
              "      <th>patient_type</th>\n",
              "      <th>pneumonia</th>\n",
              "      <th>diabetes</th>\n",
              "      <th>copd</th>\n",
              "      <th>asthma</th>\n",
              "      <th>inmsupr</th>\n",
              "      <th>hypertension</th>\n",
              "      <th>other_disease</th>\n",
              "      <th>cardiovascular</th>\n",
              "      <th>obesity</th>\n",
              "      <th>renal_chronic</th>\n",
              "      <th>tobacco</th>\n",
              "    </tr>\n",
              "  </thead>\n",
              "  <tbody>\n",
              "    <tr>\n",
              "      <th>0</th>\n",
              "      <td>Male</td>\n",
              "      <td>1</td>\n",
              "      <td>No</td>\n",
              "      <td>No</td>\n",
              "      <td>No</td>\n",
              "      <td>No</td>\n",
              "      <td>No</td>\n",
              "      <td>No</td>\n",
              "      <td>No</td>\n",
              "      <td>No</td>\n",
              "      <td>No</td>\n",
              "      <td>No</td>\n",
              "      <td>No</td>\n",
              "    </tr>\n",
              "    <tr>\n",
              "      <th>1</th>\n",
              "      <td>Male</td>\n",
              "      <td>1</td>\n",
              "      <td>No</td>\n",
              "      <td>No</td>\n",
              "      <td>No</td>\n",
              "      <td>No</td>\n",
              "      <td>No</td>\n",
              "      <td>No</td>\n",
              "      <td>No</td>\n",
              "      <td>No</td>\n",
              "      <td>No</td>\n",
              "      <td>No</td>\n",
              "      <td>No</td>\n",
              "    </tr>\n",
              "    <tr>\n",
              "      <th>2</th>\n",
              "      <td>Female</td>\n",
              "      <td>2</td>\n",
              "      <td>No</td>\n",
              "      <td>No</td>\n",
              "      <td>No</td>\n",
              "      <td>No</td>\n",
              "      <td>No</td>\n",
              "      <td>No</td>\n",
              "      <td>No</td>\n",
              "      <td>No</td>\n",
              "      <td>Yes</td>\n",
              "      <td>No</td>\n",
              "      <td>No</td>\n",
              "    </tr>\n",
              "    <tr>\n",
              "      <th>3</th>\n",
              "      <td>Male</td>\n",
              "      <td>2</td>\n",
              "      <td>Yes</td>\n",
              "      <td>No</td>\n",
              "      <td>No</td>\n",
              "      <td>No</td>\n",
              "      <td>No</td>\n",
              "      <td>No</td>\n",
              "      <td>No</td>\n",
              "      <td>No</td>\n",
              "      <td>No</td>\n",
              "      <td>No</td>\n",
              "      <td>No</td>\n",
              "    </tr>\n",
              "    <tr>\n",
              "      <th>4</th>\n",
              "      <td>Female</td>\n",
              "      <td>2</td>\n",
              "      <td>No</td>\n",
              "      <td>Yes</td>\n",
              "      <td>No</td>\n",
              "      <td>No</td>\n",
              "      <td>No</td>\n",
              "      <td>Yes</td>\n",
              "      <td>No</td>\n",
              "      <td>Yes</td>\n",
              "      <td>No</td>\n",
              "      <td>No</td>\n",
              "      <td>No</td>\n",
              "    </tr>\n",
              "    <tr>\n",
              "      <th>...</th>\n",
              "      <td>...</td>\n",
              "      <td>...</td>\n",
              "      <td>...</td>\n",
              "      <td>...</td>\n",
              "      <td>...</td>\n",
              "      <td>...</td>\n",
              "      <td>...</td>\n",
              "      <td>...</td>\n",
              "      <td>...</td>\n",
              "      <td>...</td>\n",
              "      <td>...</td>\n",
              "      <td>...</td>\n",
              "      <td>...</td>\n",
              "    </tr>\n",
              "    <tr>\n",
              "      <th>499687</th>\n",
              "      <td>Male</td>\n",
              "      <td>1</td>\n",
              "      <td>Yes</td>\n",
              "      <td>No</td>\n",
              "      <td>No</td>\n",
              "      <td>No</td>\n",
              "      <td>No</td>\n",
              "      <td>No</td>\n",
              "      <td>Yes</td>\n",
              "      <td>No</td>\n",
              "      <td>No</td>\n",
              "      <td>No</td>\n",
              "      <td>Yes</td>\n",
              "    </tr>\n",
              "    <tr>\n",
              "      <th>499688</th>\n",
              "      <td>Male</td>\n",
              "      <td>2</td>\n",
              "      <td>Yes</td>\n",
              "      <td>No</td>\n",
              "      <td>No</td>\n",
              "      <td>No</td>\n",
              "      <td>No</td>\n",
              "      <td>Yes</td>\n",
              "      <td>No</td>\n",
              "      <td>No</td>\n",
              "      <td>Yes</td>\n",
              "      <td>No</td>\n",
              "      <td>Yes</td>\n",
              "    </tr>\n",
              "    <tr>\n",
              "      <th>499689</th>\n",
              "      <td>Female</td>\n",
              "      <td>1</td>\n",
              "      <td>No</td>\n",
              "      <td>No</td>\n",
              "      <td>No</td>\n",
              "      <td>No</td>\n",
              "      <td>No</td>\n",
              "      <td>No</td>\n",
              "      <td>No</td>\n",
              "      <td>No</td>\n",
              "      <td>No</td>\n",
              "      <td>No</td>\n",
              "      <td>No</td>\n",
              "    </tr>\n",
              "    <tr>\n",
              "      <th>499690</th>\n",
              "      <td>Female</td>\n",
              "      <td>1</td>\n",
              "      <td>No</td>\n",
              "      <td>No</td>\n",
              "      <td>No</td>\n",
              "      <td>No</td>\n",
              "      <td>No</td>\n",
              "      <td>Yes</td>\n",
              "      <td>No</td>\n",
              "      <td>No</td>\n",
              "      <td>No</td>\n",
              "      <td>No</td>\n",
              "      <td>No</td>\n",
              "    </tr>\n",
              "    <tr>\n",
              "      <th>499691</th>\n",
              "      <td>Female</td>\n",
              "      <td>1</td>\n",
              "      <td>No</td>\n",
              "      <td>No</td>\n",
              "      <td>No</td>\n",
              "      <td>No</td>\n",
              "      <td>No</td>\n",
              "      <td>No</td>\n",
              "      <td>No</td>\n",
              "      <td>No</td>\n",
              "      <td>No</td>\n",
              "      <td>No</td>\n",
              "      <td>No</td>\n",
              "    </tr>\n",
              "  </tbody>\n",
              "</table>\n",
              "<p>496291 rows × 13 columns</p>\n",
              "</div>"
            ],
            "text/plain": [
              "           sex  patient_type pneumonia  ... obesity renal_chronic tobacco\n",
              "0         Male             1        No  ...      No            No      No\n",
              "1         Male             1        No  ...      No            No      No\n",
              "2       Female             2        No  ...     Yes            No      No\n",
              "3         Male             2       Yes  ...      No            No      No\n",
              "4       Female             2        No  ...      No            No      No\n",
              "...        ...           ...       ...  ...     ...           ...     ...\n",
              "499687    Male             1       Yes  ...      No            No     Yes\n",
              "499688    Male             2       Yes  ...     Yes            No     Yes\n",
              "499689  Female             1        No  ...      No            No      No\n",
              "499690  Female             1        No  ...      No            No      No\n",
              "499691  Female             1        No  ...      No            No      No\n",
              "\n",
              "[496291 rows x 13 columns]"
            ]
          },
          "metadata": {
            "tags": []
          },
          "execution_count": 49
        }
      ]
    },
    {
      "cell_type": "code",
      "metadata": {
        "id": "9Niwehir6aCs"
      },
      "source": [
        "oe.fit(X_)\n",
        "X_=oe.transform(X_)\n",
        "#X_"
      ],
      "execution_count": 50,
      "outputs": []
    },
    {
      "cell_type": "code",
      "metadata": {
        "colab": {
          "base_uri": "https://localhost:8080/",
          "height": 0
        },
        "id": "ZsPcgy2q6dkL",
        "outputId": "ce23fe36-6810-4ca7-b943-aca6dba05827"
      },
      "source": [
        "X_"
      ],
      "execution_count": 51,
      "outputs": [
        {
          "output_type": "execute_result",
          "data": {
            "text/plain": [
              "array([[1., 0., 0., ..., 0., 0., 0.],\n",
              "       [1., 0., 0., ..., 0., 0., 0.],\n",
              "       [0., 1., 0., ..., 1., 0., 0.],\n",
              "       ...,\n",
              "       [0., 0., 0., ..., 0., 0., 0.],\n",
              "       [0., 0., 0., ..., 0., 0., 0.],\n",
              "       [0., 0., 0., ..., 0., 0., 0.]])"
            ]
          },
          "metadata": {
            "tags": []
          },
          "execution_count": 51
        }
      ]
    },
    {
      "cell_type": "code",
      "metadata": {
        "colab": {
          "base_uri": "https://localhost:8080/",
          "height": 0
        },
        "id": "hbCWUXqd6idq",
        "outputId": "538aedb9-48f4-4adf-d6b9-65ca37122c67"
      },
      "source": [
        "import numpy as np\n",
        "arr=np.array(df[['delta','age']])\n",
        "arr"
      ],
      "execution_count": 52,
      "outputs": [
        {
          "output_type": "execute_result",
          "data": {
            "text/plain": [
              "array([[ 60,  27],\n",
              "       [  2,  24],\n",
              "       [152,  54],\n",
              "       ...,\n",
              "       [  3,  25],\n",
              "       [  2,  45],\n",
              "       [  8,  51]])"
            ]
          },
          "metadata": {
            "tags": []
          },
          "execution_count": 52
        }
      ]
    },
    {
      "cell_type": "code",
      "metadata": {
        "colab": {
          "base_uri": "https://localhost:8080/",
          "height": 0
        },
        "id": "msCchNr96oKK",
        "outputId": "7403c22b-9161-4d44-9eac-08767af608bb"
      },
      "source": [
        "arr_=arr.reshape(496291,2)\n",
        "X=np.append(arr_,X_,axis=1)\n",
        "X"
      ],
      "execution_count": 53,
      "outputs": [
        {
          "output_type": "execute_result",
          "data": {
            "text/plain": [
              "array([[ 60.,  27.,   1., ...,   0.,   0.,   0.],\n",
              "       [  2.,  24.,   1., ...,   0.,   0.,   0.],\n",
              "       [152.,  54.,   0., ...,   1.,   0.,   0.],\n",
              "       ...,\n",
              "       [  3.,  25.,   0., ...,   0.,   0.,   0.],\n",
              "       [  2.,  45.,   0., ...,   0.,   0.,   0.],\n",
              "       [  8.,  51.,   0., ...,   0.,   0.,   0.]])"
            ]
          },
          "metadata": {
            "tags": []
          },
          "execution_count": 53
        }
      ]
    },
    {
      "cell_type": "code",
      "metadata": {
        "colab": {
          "base_uri": "https://localhost:8080/",
          "height": 0
        },
        "id": "90stHIKG6vCZ",
        "outputId": "8cec25a4-7e98-463d-bdb3-98ded015d309"
      },
      "source": [
        "y=np.array(df['covid_res'])\n",
        "y=y.reshape(-1,1)\n",
        "oe.fit(y)\n",
        "y=oe.transform(y)\n",
        "# y.reshape(496291,1)\n",
        "print(type(y))\n",
        "y"
      ],
      "execution_count": 54,
      "outputs": [
        {
          "output_type": "stream",
          "text": [
            "<class 'numpy.ndarray'>\n"
          ],
          "name": "stdout"
        },
        {
          "output_type": "execute_result",
          "data": {
            "text/plain": [
              "array([[1.],\n",
              "       [1.],\n",
              "       [1.],\n",
              "       ...,\n",
              "       [0.],\n",
              "       [0.],\n",
              "       [0.]])"
            ]
          },
          "metadata": {
            "tags": []
          },
          "execution_count": 54
        }
      ]
    },
    {
      "cell_type": "code",
      "metadata": {
        "colab": {
          "base_uri": "https://localhost:8080/",
          "height": 0
        },
        "id": "jR6XDj-h60S1",
        "outputId": "ab1fdee5-4efa-458f-a9c3-d83e8d182d46"
      },
      "source": [
        "X"
      ],
      "execution_count": 55,
      "outputs": [
        {
          "output_type": "execute_result",
          "data": {
            "text/plain": [
              "array([[ 60.,  27.,   1., ...,   0.,   0.,   0.],\n",
              "       [  2.,  24.,   1., ...,   0.,   0.,   0.],\n",
              "       [152.,  54.,   0., ...,   1.,   0.,   0.],\n",
              "       ...,\n",
              "       [  3.,  25.,   0., ...,   0.,   0.,   0.],\n",
              "       [  2.,  45.,   0., ...,   0.,   0.,   0.],\n",
              "       [  8.,  51.,   0., ...,   0.,   0.,   0.]])"
            ]
          },
          "metadata": {
            "tags": []
          },
          "execution_count": 55
        }
      ]
    },
    {
      "cell_type": "markdown",
      "metadata": {
        "id": "rAzc6kH16_kb"
      },
      "source": [
        "Standard Scalar\n",
        "\n",
        "Standardizes data such that mean = 0 and standard deviation = 1"
      ]
    },
    {
      "cell_type": "code",
      "metadata": {
        "id": "MIPN0HBv7GRh"
      },
      "source": [
        "from sklearn.preprocessing import StandardScaler\n",
        "scaler = StandardScaler()\n",
        "scaler.fit(X)\n",
        "X=scaler.transform(X)"
      ],
      "execution_count": 56,
      "outputs": []
    },
    {
      "cell_type": "code",
      "metadata": {
        "colab": {
          "base_uri": "https://localhost:8080/",
          "height": 0
        },
        "id": "HN3NpnOw7L2c",
        "outputId": "5950e1c6-d535-4518-c5a4-3b6d1a2f8b08"
      },
      "source": [
        "print(X.std())\n",
        "print(X.shape)\n",
        "X"
      ],
      "execution_count": 57,
      "outputs": [
        {
          "output_type": "stream",
          "text": [
            "0.9999999999999966\n",
            "(496291, 15)\n"
          ],
          "name": "stdout"
        },
        {
          "output_type": "execute_result",
          "data": {
            "text/plain": [
              "array([[ 0.17063051, -0.93319815,  0.98814779, ..., -0.44280035,\n",
              "        -0.14290986, -0.3068147 ],\n",
              "       [-0.71338558, -1.11366638,  0.98814779, ..., -0.44280035,\n",
              "        -0.14290986, -0.3068147 ],\n",
              "       [ 1.57286293,  0.69101592, -1.01199437, ...,  2.25835415,\n",
              "        -0.14290986, -0.3068147 ],\n",
              "       ...,\n",
              "       [-0.69814393, -1.0535103 , -1.01199437, ..., -0.44280035,\n",
              "        -0.14290986, -0.3068147 ],\n",
              "       [-0.71338558,  0.14961123, -1.01199437, ..., -0.44280035,\n",
              "        -0.14290986, -0.3068147 ],\n",
              "       [-0.62193564,  0.51054769, -1.01199437, ..., -0.44280035,\n",
              "        -0.14290986, -0.3068147 ]])"
            ]
          },
          "metadata": {
            "tags": []
          },
          "execution_count": 57
        }
      ]
    },
    {
      "cell_type": "code",
      "metadata": {
        "id": "VmZsBnpT7MNk"
      },
      "source": [
        "from sklearn.model_selection import train_test_split\n",
        "#Split into train and test set\n",
        "X_train, X_test, y_train, y_test = train_test_split(X, y, test_size=0.33, random_state=42)"
      ],
      "execution_count": 58,
      "outputs": []
    },
    {
      "cell_type": "code",
      "metadata": {
        "colab": {
          "base_uri": "https://localhost:8080/",
          "height": 0
        },
        "id": "H1XwXmw_7XQZ",
        "outputId": "0b7c89fc-9ddb-4b4c-8970-4d462d36611d"
      },
      "source": [
        "X_test"
      ],
      "execution_count": 59,
      "outputs": [
        {
          "output_type": "execute_result",
          "data": {
            "text/plain": [
              "array([[ 2.06059595, -0.39179346, -1.01199437, ..., -0.44280035,\n",
              "        -0.14290986, -0.3068147 ],\n",
              "       [-0.7438689 , -0.45194954, -1.01199437, ..., -0.44280035,\n",
              "        -0.14290986, -0.3068147 ],\n",
              "       [-0.6371773 ,  1.41288883, -1.01199437, ..., -0.44280035,\n",
              "        -0.14290986, -0.3068147 ],\n",
              "       ...,\n",
              "       [ 1.58810459, -0.51210561, -1.01199437, ...,  2.25835415,\n",
              "        -0.14290986, -0.3068147 ],\n",
              "       [ 0.65836353,  1.47304491, -1.01199437, ..., -0.44280035,\n",
              "        -0.14290986, -0.3068147 ],\n",
              "       [-0.27137754, -0.57226169, -1.01199437, ..., -0.44280035,\n",
              "        -0.14290986, -0.3068147 ]])"
            ]
          },
          "metadata": {
            "tags": []
          },
          "execution_count": 59
        }
      ]
    },
    {
      "cell_type": "markdown",
      "metadata": {
        "id": "ofPHxyVK-Erb"
      },
      "source": [
        "**Classification**\n",
        "\n",
        "Importing Important parameters"
      ]
    },
    {
      "cell_type": "code",
      "metadata": {
        "id": "3v0V_i-U-KHx"
      },
      "source": [
        "from sklearn.metrics import accuracy_score\n",
        "from sklearn.metrics import recall_score\n",
        "from sklearn.metrics import precision_score\n",
        "from sklearn.metrics import f1_score\n",
        "from sklearn.metrics import confusion_matrix"
      ],
      "execution_count": 60,
      "outputs": []
    },
    {
      "cell_type": "markdown",
      "metadata": {
        "id": "w2Usn1Bc-NKI"
      },
      "source": [
        "**1. Logistic Regression**"
      ]
    },
    {
      "cell_type": "code",
      "metadata": {
        "colab": {
          "base_uri": "https://localhost:8080/",
          "height": 0
        },
        "id": "8NBbPPLo-RXx",
        "outputId": "e2f43b0a-12a1-4ae8-9a17-4cb2f8098f3c"
      },
      "source": [
        "from sklearn.linear_model import LogisticRegression\n",
        "lr = LogisticRegression()\n",
        "lr.fit(X_train,y_train)"
      ],
      "execution_count": 61,
      "outputs": [
        {
          "output_type": "stream",
          "text": [
            "/usr/local/lib/python3.7/dist-packages/sklearn/utils/validation.py:760: DataConversionWarning: A column-vector y was passed when a 1d array was expected. Please change the shape of y to (n_samples, ), for example using ravel().\n",
            "  y = column_or_1d(y, warn=True)\n"
          ],
          "name": "stderr"
        },
        {
          "output_type": "execute_result",
          "data": {
            "text/plain": [
              "LogisticRegression(C=1.0, class_weight=None, dual=False, fit_intercept=True,\n",
              "                   intercept_scaling=1, l1_ratio=None, max_iter=100,\n",
              "                   multi_class='auto', n_jobs=None, penalty='l2',\n",
              "                   random_state=None, solver='lbfgs', tol=0.0001, verbose=0,\n",
              "                   warm_start=False)"
            ]
          },
          "metadata": {
            "tags": []
          },
          "execution_count": 61
        }
      ]
    },
    {
      "cell_type": "code",
      "metadata": {
        "colab": {
          "base_uri": "https://localhost:8080/",
          "height": 0
        },
        "id": "d-PGd9oe-YeU",
        "outputId": "088320af-b817-48e8-d152-22f507895510"
      },
      "source": [
        "y_test_pred = lr.predict(X_test)\n",
        "y_train_pred = lr.predict(X_train)\n",
        "print(\"Train accuracy:- \\t\",round(precision_score(y_train_pred,y_train)*100,2))\n",
        "print(\"Test accuracy:- \\t\",round(accuracy_score(y_test_pred,y_test)*100,2))\n",
        "print(\"Recall:- \\t\",round(recall_score(y_test_pred,y_test)*100,2))\n",
        "print(\"Precision:- \\t\",round(precision_score(y_test_pred,y_test)*100,2))\n",
        "print('F1 score:- \\t',round(f1_score(y_test,y_test_pred)*100,2))"
      ],
      "execution_count": 62,
      "outputs": [
        {
          "output_type": "stream",
          "text": [
            "Train accuracy:- \t 37.28\n",
            "Test accuracy:- \t 63.2\n",
            "Recall:- \t 64.45\n",
            "Precision:- \t 37.25\n",
            "F1 score:- \t 47.21\n"
          ],
          "name": "stdout"
        }
      ]
    },
    {
      "cell_type": "code",
      "metadata": {
        "colab": {
          "base_uri": "https://localhost:8080/",
          "height": 0
        },
        "id": "_swPKsGR-dFh",
        "outputId": "97377216-7930-492c-d994-582655268178"
      },
      "source": [
        "confusion_matrix(y_test_pred,y_test)"
      ],
      "execution_count": 63,
      "outputs": [
        {
          "output_type": "execute_result",
          "data": {
            "text/plain": [
              "array([[76550, 45404],\n",
              "       [14870, 26953]])"
            ]
          },
          "metadata": {
            "tags": []
          },
          "execution_count": 63
        }
      ]
    },
    {
      "cell_type": "markdown",
      "metadata": {
        "id": "4ZrQtQkQ-kSP"
      },
      "source": [
        "**2. Decision Trees¶**"
      ]
    },
    {
      "cell_type": "code",
      "metadata": {
        "colab": {
          "base_uri": "https://localhost:8080/",
          "height": 0
        },
        "id": "3_Qpb3oW-mW_",
        "outputId": "6af306e6-38c7-4c6c-c1ab-9a2270ffae03"
      },
      "source": [
        "from sklearn import tree\n",
        "DT = tree.DecisionTreeClassifier()\n",
        "DT.fit(X_train, y_train)"
      ],
      "execution_count": 64,
      "outputs": [
        {
          "output_type": "execute_result",
          "data": {
            "text/plain": [
              "DecisionTreeClassifier(ccp_alpha=0.0, class_weight=None, criterion='gini',\n",
              "                       max_depth=None, max_features=None, max_leaf_nodes=None,\n",
              "                       min_impurity_decrease=0.0, min_impurity_split=None,\n",
              "                       min_samples_leaf=1, min_samples_split=2,\n",
              "                       min_weight_fraction_leaf=0.0, presort='deprecated',\n",
              "                       random_state=None, splitter='best')"
            ]
          },
          "metadata": {
            "tags": []
          },
          "execution_count": 64
        }
      ]
    },
    {
      "cell_type": "code",
      "metadata": {
        "colab": {
          "base_uri": "https://localhost:8080/",
          "height": 0
        },
        "id": "3D2v4fKwGCTp",
        "outputId": "c1080ae9-0c7f-4d77-8da2-d09cdcd95057"
      },
      "source": [
        "y_test_pred = DT.predict(X_test)\n",
        "y_train_pred = DT.predict(X_train)\n",
        "print(\"Train accuracy:- \\t\",round(precision_score(y_train_pred,y_train)*100,2))\n",
        "print(\"Test accuracy:- \\t\",round(accuracy_score(y_test_pred,y_test)*100,2))\n",
        "print(\"Recall:- \\t\",round(recall_score(y_test_pred,y_test)*100,2))\n",
        "print(\"Precision:- \\t\",round(precision_score(y_test_pred,y_test)*100,2))\n",
        "print('F1 score:- \\t',round(f1_score(y_test,y_test_pred)*100,2))"
      ],
      "execution_count": 65,
      "outputs": [
        {
          "output_type": "stream",
          "text": [
            "Train accuracy:- \t 57.73\n",
            "Test accuracy:- \t 60.3\n",
            "Recall:- \t 57.55\n",
            "Precision:- \t 38.68\n",
            "F1 score:- \t 46.26\n"
          ],
          "name": "stdout"
        }
      ]
    },
    {
      "cell_type": "code",
      "metadata": {
        "colab": {
          "base_uri": "https://localhost:8080/",
          "height": 0
        },
        "id": "5QIre_ycGPZm",
        "outputId": "e75ad7d7-f92c-49f3-f9b2-6d5a5f2d5a24"
      },
      "source": [
        "confusion_matrix(y_test_pred,y_test)"
      ],
      "execution_count": 66,
      "outputs": [
        {
          "output_type": "execute_result",
          "data": {
            "text/plain": [
              "array([[70774, 44371],\n",
              "       [20646, 27986]])"
            ]
          },
          "metadata": {
            "tags": []
          },
          "execution_count": 66
        }
      ]
    },
    {
      "cell_type": "markdown",
      "metadata": {
        "id": "KE9_YepIGV0M"
      },
      "source": [
        "**3. Decision Forest Classifier**"
      ]
    },
    {
      "cell_type": "code",
      "metadata": {
        "colab": {
          "base_uri": "https://localhost:8080/",
          "height": 0
        },
        "id": "qUFPQUwTGX6L",
        "outputId": "79d59eba-aae3-4b00-9a8b-eab5a75c4639"
      },
      "source": [
        "from sklearn.ensemble import RandomForestClassifier\n",
        "Rf = RandomForestClassifier()\n",
        "Rf.fit(X_train, y_train)"
      ],
      "execution_count": 67,
      "outputs": [
        {
          "output_type": "stream",
          "text": [
            "/usr/local/lib/python3.7/dist-packages/ipykernel_launcher.py:3: DataConversionWarning: A column-vector y was passed when a 1d array was expected. Please change the shape of y to (n_samples,), for example using ravel().\n",
            "  This is separate from the ipykernel package so we can avoid doing imports until\n"
          ],
          "name": "stderr"
        },
        {
          "output_type": "execute_result",
          "data": {
            "text/plain": [
              "RandomForestClassifier(bootstrap=True, ccp_alpha=0.0, class_weight=None,\n",
              "                       criterion='gini', max_depth=None, max_features='auto',\n",
              "                       max_leaf_nodes=None, max_samples=None,\n",
              "                       min_impurity_decrease=0.0, min_impurity_split=None,\n",
              "                       min_samples_leaf=1, min_samples_split=2,\n",
              "                       min_weight_fraction_leaf=0.0, n_estimators=100,\n",
              "                       n_jobs=None, oob_score=False, random_state=None,\n",
              "                       verbose=0, warm_start=False)"
            ]
          },
          "metadata": {
            "tags": []
          },
          "execution_count": 67
        }
      ]
    },
    {
      "cell_type": "code",
      "metadata": {
        "colab": {
          "base_uri": "https://localhost:8080/",
          "height": 0
        },
        "id": "i9LxcyIBGkpX",
        "outputId": "5ba22ede-4511-4780-fef9-b54e56be5e2b"
      },
      "source": [
        "y_test_pred = Rf.predict(X_test)\n",
        "y_train_pred = Rf.predict(X_train)\n",
        "print(\"Train accuracy:- \\t\",round(precision_score(y_train_pred,y_train)*100,2))\n",
        "print(\"Test accuracy:- \\t\",round(accuracy_score(y_test_pred,y_test)*100,2))\n",
        "print(\"Recall:- \\t\",round(recall_score(y_test_pred,y_test)*100,2))\n",
        "print(\"Precision:- \\t\",round(precision_score(y_test_pred,y_test)*100,2))\n",
        "print('F1 score:- \\t',round(f1_score(y_test,y_test_pred)*100,2))\n",
        "confusion_matrix(y_test,y_test_pred)"
      ],
      "execution_count": 68,
      "outputs": [
        {
          "output_type": "stream",
          "text": [
            "Train accuracy:- \t 61.59\n",
            "Test accuracy:- \t 61.04\n",
            "Recall:- \t 57.85\n",
            "Precision:- \t 43.54\n",
            "F1 score:- \t 49.68\n"
          ],
          "name": "stdout"
        },
        {
          "output_type": "execute_result",
          "data": {
            "text/plain": [
              "array([[68466, 22954],\n",
              "       [40854, 31503]])"
            ]
          },
          "metadata": {
            "tags": []
          },
          "execution_count": 68
        }
      ]
    },
    {
      "cell_type": "markdown",
      "metadata": {
        "id": "KoXZJbHUGp5h"
      },
      "source": [
        "**Conclusion :**\n",
        "\n",
        "therefore the Decision Forest Classifier Model predicted Train accuracy is 61.88% which is far better than other model.\n",
        "  "
      ]
    },
    {
      "cell_type": "code",
      "metadata": {
        "id": "hFKqEab6HwbX"
      },
      "source": [
        ""
      ],
      "execution_count": null,
      "outputs": []
    }
  ]
}